{
  "nbformat": 4,
  "nbformat_minor": 0,
  "metadata": {
    "colab": {
      "provenance": [],
      "mount_file_id": "1VLzVBkL6Lx23F6FaSqhQJO9_t6Hs_5C7",
      "authorship_tag": "ABX9TyMHmbFUyHCuzB+YVwEh4/mO"
    },
    "kernelspec": {
      "name": "python3",
      "display_name": "Python 3"
    },
    "language_info": {
      "name": "python"
    }
  },
  "cells": [
    {
      "cell_type": "code",
      "execution_count": null,
      "metadata": {
        "id": "__5d9PQIVqFY",
        "colab": {
          "base_uri": "https://localhost:8080/"
        },
        "outputId": "2b9e4116-89b3-4fe4-9bbd-49076e3ccf58"
      },
      "outputs": [
        {
          "output_type": "stream",
          "name": "stdout",
          "text": [
            "Requirement already satisfied: pyspark in /usr/local/lib/python3.10/dist-packages (3.5.3)\n",
            "Requirement already satisfied: py4j==0.10.9.7 in /usr/local/lib/python3.10/dist-packages (from pyspark) (0.10.9.7)\n"
          ]
        }
      ],
      "source": [
        "!pip install pyspark"
      ]
    },
    {
      "cell_type": "code",
      "source": [
        "from pyspark.sql import SparkSession\n",
        "from pyspark.sql.functions import *\n",
        "from pyspark.sql.types import *\n",
        "from pyspark.sql.window import Window\n"
      ],
      "metadata": {
        "id": "EwZDQ2J2WDqs"
      },
      "execution_count": null,
      "outputs": []
    },
    {
      "cell_type": "code",
      "source": [
        "spark = (\n",
        "      SparkSession\n",
        "      .builder\n",
        "      .master('local[*]') #Usando todos os cores da maquina\n",
        "      .appName('spark_1') #Dando nome a sessão\n",
        "      .getOrCreate()\n",
        ")"
      ],
      "metadata": {
        "id": "O0p07Z0cjyIz"
      },
      "execution_count": null,
      "outputs": []
    },
    {
      "cell_type": "code",
      "source": [
        "df = (\n",
        "    spark\n",
        "    .read\n",
        "    .option('header', 'true') #Possui cabeçalho (nome da coluna)\n",
        "    .option('delimiter', ';') #O delimitador do nosso csv é ;\n",
        "    .option('inferSchema', 'true') #O spark já inferir os tipos dos dados das colunas\n",
        "    .option('enconding', 'ISO-8859-1') #ISO de arquivo csv\n",
        "    .format('csv') #Informando que é um arquivo csv\n",
        "    .csv('/content/drive/MyDrive/ESTUDOS/pyspark/precos-gasolina-etanol-08.csv') #Informando o arquivo\n",
        ")"
      ],
      "metadata": {
        "id": "Hu19R9Kin-ki"
      },
      "execution_count": null,
      "outputs": []
    },
    {
      "cell_type": "markdown",
      "source": [
        "exibindo o df (df.show)"
      ],
      "metadata": {
        "id": "9Pef1FBFC4Av"
      }
    },
    {
      "cell_type": "code",
      "source": [
        "df.show(30)"
      ],
      "metadata": {
        "colab": {
          "base_uri": "https://localhost:8080/"
        },
        "id": "ROdXi0ZRCnMe",
        "outputId": "6294a295-9fe5-46bf-f057-aaac8473cef2"
      },
      "execution_count": null,
      "outputs": [
        {
          "output_type": "stream",
          "name": "stdout",
          "text": [
            "+--------------+--------------+---------+--------------------+-------------------+--------------------+----------+--------------+-----------------+---------+------------------+--------------+--------------+---------------+-----------------+--------+\n",
            "|Regiao - Sigla|Estado - Sigla|Municipio|             Revenda|    CNPJ da Revenda|         Nome da Rua|Numero Rua|   Complemento|           Bairro|      Cep|           Produto|Data da Coleta|Valor de Venda|Valor de Compra|Unidade de Medida|Bandeira|\n",
            "+--------------+--------------+---------+--------------------+-------------------+--------------------+----------+--------------+-----------------+---------+------------------+--------------+--------------+---------------+-----------------+--------+\n",
            "|             N|            AM|PARINTINS|F.J. COMERCIO DE ...| 09.368.602/0001-70|         RUA PARAIBA|        41|CONJ  MACURANY|   RAIMUNDO MUNIZ|69151-456|          GASOLINA|    01/08/2024|          7,68|           NULL|       R$ / litro|  BRANCA|\n",
            "|             N|            AM|PARINTINS|F.J. COMERCIO DE ...| 09.368.602/0001-70|         RUA PARAIBA|        41|CONJ  MACURANY|   RAIMUNDO MUNIZ|69151-456|GASOLINA ADITIVADA|    01/08/2024|          7,68|           NULL|       R$ / litro|  BRANCA|\n",
            "|            NE|            CE|ITAPIPOCA|SAO PEDRO COM VAR...| 01.632.155/0002-94|AVENIDA MONSENHOR...|      2771|          NULL|            JULHO|62505-650|          GASOLINA|    01/08/2024|          6,77|           NULL|       R$ / litro|     ALE|\n",
            "|            NE|            CE|ITAPIPOCA|SAO PEDRO COM VAR...| 01.632.155/0002-94|AVENIDA MONSENHOR...|      2771|          NULL|            JULHO|62505-650|GASOLINA ADITIVADA|    01/08/2024|          6,78|           NULL|       R$ / litro|     ALE|\n",
            "|            NE|            CE|ITAPIPOCA|SAO PEDRO COM VAR...| 01.632.155/0002-94|AVENIDA MONSENHOR...|      2771|          NULL|            JULHO|62505-650|            ETANOL|    01/08/2024|          5,24|           NULL|       R$ / litro|     ALE|\n",
            "|            NE|            CE|ITAPIPOCA|COMERCIAL ITAPIPO...| 23.463.268/0001-65|RUA JOSE DO PATRO...|      1023|          NULL|         COQUEIRO|62508-048|          GASOLINA|    01/08/2024|          6,79|           NULL|       R$ / litro|IPIRANGA|\n",
            "|            NE|            CE|ITAPIPOCA|COMERCIAL ITAPIPO...| 23.463.268/0001-65|RUA JOSE DO PATRO...|      1023|          NULL|         COQUEIRO|62508-048|GASOLINA ADITIVADA|    01/08/2024|          6,79|           NULL|       R$ / litro|IPIRANGA|\n",
            "|            NE|            CE|ITAPIPOCA|COMERCIAL ITAPIPO...| 23.463.268/0001-65|RUA JOSE DO PATRO...|      1023|          NULL|         COQUEIRO|62508-048|            ETANOL|    01/08/2024|          5,24|           NULL|       R$ / litro|IPIRANGA|\n",
            "|            NE|            CE|   SOBRAL|ECONOGÁS DO BRASI...| 08.775.979/0002-62|RUA TABELIÃO IDEL...|       455|          NULL|           CENTRO|62010-000|          GASOLINA|    01/08/2024|          6,68|           NULL|       R$ / litro|  RAIZEN|\n",
            "|            NE|            CE|   SOBRAL|ECONOGÁS DO BRASI...| 08.775.979/0002-62|RUA TABELIÃO IDEL...|       455|          NULL|           CENTRO|62010-000|GASOLINA ADITIVADA|    01/08/2024|          6,88|           NULL|       R$ / litro|  RAIZEN|\n",
            "|            NE|            CE|   SOBRAL|ECONOGÁS DO BRASI...| 08.775.979/0002-62|RUA TABELIÃO IDEL...|       455|          NULL|           CENTRO|62010-000|            ETANOL|    01/08/2024|          4,99|           NULL|       R$ / litro|  RAIZEN|\n",
            "|            NE|            CE|   SOBRAL|T. C. DE VASCONCE...| 07.380.155/0002-20|AVENIDA CEL. JOSE...|       970|          NULL|      EXPECTATIVA|62040-254|          GASOLINA|    01/08/2024|          6,69|           NULL|       R$ / litro|   VIBRA|\n",
            "|            NE|            CE|   SOBRAL|T. C. DE VASCONCE...| 07.380.155/0002-20|AVENIDA CEL. JOSE...|       970|          NULL|      EXPECTATIVA|62040-254|GASOLINA ADITIVADA|    01/08/2024|          6,79|           NULL|       R$ / litro|   VIBRA|\n",
            "|            NE|            CE|   SOBRAL|T. C. DE VASCONCE...| 07.380.155/0002-20|AVENIDA CEL. JOSE...|       970|          NULL|      EXPECTATIVA|62040-254|            ETANOL|    01/08/2024|          5,29|           NULL|       R$ / litro|   VIBRA|\n",
            "|            NE|            CE|   SOBRAL|AUTO POSTO PIONEI...| 07.428.286/0001-50|AVENIDA JOHN SANFORD|       704|          NULL|            JUNCO|62030-000|          GASOLINA|    01/08/2024|          6,69|           NULL|       R$ / litro|   VIBRA|\n",
            "|            NE|            CE|   SOBRAL|AUTO POSTO PIONEI...| 07.428.286/0001-50|AVENIDA JOHN SANFORD|       704|          NULL|            JUNCO|62030-000|GASOLINA ADITIVADA|    01/08/2024|          6,79|           NULL|       R$ / litro|   VIBRA|\n",
            "|            NE|            CE|   SOBRAL|AUTO POSTO PIONEI...| 07.428.286/0001-50|AVENIDA JOHN SANFORD|       704|          NULL|            JUNCO|62030-000|            ETANOL|    01/08/2024|          5,29|           NULL|       R$ / litro|   VIBRA|\n",
            "|            NE|            CE|   SOBRAL|V.C.EMPREENDIMENT...| 03.551.935/0002-35|AVENIDA JOSE EUCL...|        30|   POSTO FLASH| CORACAO DE JESUS|62043-070|          GASOLINA|    01/08/2024|          6,68|           NULL|       R$ / litro|  RAIZEN|\n",
            "|            NE|            CE|   SOBRAL|V.C.EMPREENDIMENT...| 03.551.935/0002-35|AVENIDA JOSE EUCL...|        30|   POSTO FLASH| CORACAO DE JESUS|62043-070|GASOLINA ADITIVADA|    01/08/2024|          6,98|           NULL|       R$ / litro|  RAIZEN|\n",
            "|            NE|            CE|   SOBRAL|V.C.EMPREENDIMENT...| 03.551.935/0002-35|AVENIDA JOSE EUCL...|        30|   POSTO FLASH| CORACAO DE JESUS|62043-070|            ETANOL|    01/08/2024|          5,29|           NULL|       R$ / litro|  RAIZEN|\n",
            "|            NE|            CE|   SOBRAL|ARCANJO E VASCONC...| 07.204.049/0001-05|RUA TABELIAO ILDE...|       320|          NULL|           CENTRO|62010-001|          GASOLINA|    01/08/2024|          6,62|           NULL|       R$ / litro|   VIBRA|\n",
            "|            NE|            CE|   SOBRAL|ARCANJO E VASCONC...| 07.204.049/0001-05|RUA TABELIAO ILDE...|       320|          NULL|           CENTRO|62010-001|GASOLINA ADITIVADA|    01/08/2024|          6,76|           NULL|       R$ / litro|   VIBRA|\n",
            "|            NE|            CE|   SOBRAL|ARCANJO E VASCONC...| 07.204.049/0001-05|RUA TABELIAO ILDE...|       320|          NULL|           CENTRO|62010-001|            ETANOL|    01/08/2024|          5,27|           NULL|       R$ / litro|   VIBRA|\n",
            "|            NE|            CE|   SOBRAL|COMERCIAL DE COMB...| 05.980.738/0001-86|AVENIDA JONH SANFORD|      1943|          NULL|            JUNCO|62114-000|          GASOLINA|    01/08/2024|          6,68|           NULL|       R$ / litro|  BRANCA|\n",
            "|            NE|            CE|   SOBRAL|COMERCIAL DE COMB...| 05.980.738/0001-86|AVENIDA JONH SANFORD|      1943|          NULL|            JUNCO|62114-000|GASOLINA ADITIVADA|    01/08/2024|          6,78|           NULL|       R$ / litro|  BRANCA|\n",
            "|            NE|            CE|   SOBRAL|COMERCIAL DE COMB...| 05.980.738/0001-86|AVENIDA JONH SANFORD|      1943|          NULL|            JUNCO|62114-000|            ETANOL|    01/08/2024|          5,28|           NULL|       R$ / litro|  BRANCA|\n",
            "|            NE|            CE|   SOBRAL|CENTER POSTO COME...| 02.905.892/0001-03|AVENIDA JOSE ARIM...|       425|          NULL|CAMPOS DOS VELHOS|62114-000|          GASOLINA|    01/08/2024|          6,69|           NULL|       R$ / litro|   VIBRA|\n",
            "|            NE|            CE|   SOBRAL|CENTER POSTO COME...| 02.905.892/0001-03|AVENIDA JOSE ARIM...|       425|          NULL|CAMPOS DOS VELHOS|62114-000|GASOLINA ADITIVADA|    01/08/2024|          6,79|           NULL|       R$ / litro|   VIBRA|\n",
            "|            NE|            CE|   SOBRAL|CENTER POSTO COME...| 02.905.892/0001-03|AVENIDA JOSE ARIM...|       425|          NULL|CAMPOS DOS VELHOS|62114-000|            ETANOL|    01/08/2024|          5,29|           NULL|       R$ / litro|   VIBRA|\n",
            "|            NE|            CE|   SOBRAL|V.C.EMPREENDIMENT...| 03.551.935/0001-54|AVENIDA MONSENHOR...|        80|      LOJA  01|     DOM EXPEDITO|62050-255|          GASOLINA|    01/08/2024|          6,69|           NULL|       R$ / litro|IPIRANGA|\n",
            "+--------------+--------------+---------+--------------------+-------------------+--------------------+----------+--------------+-----------------+---------+------------------+--------------+--------------+---------------+-----------------+--------+\n",
            "only showing top 30 rows\n",
            "\n"
          ]
        }
      ]
    },
    {
      "cell_type": "markdown",
      "source": [
        "verificar tipos dos dados das colunas (seria o df.show())"
      ],
      "metadata": {
        "id": "3PwLc0BsDPEX"
      }
    },
    {
      "cell_type": "code",
      "source": [
        "df.printSchema()"
      ],
      "metadata": {
        "colab": {
          "base_uri": "https://localhost:8080/"
        },
        "id": "dfXmLp_rDTku",
        "outputId": "eb55a447-e7ec-4b3c-bf39-c171e54ffb3f"
      },
      "execution_count": null,
      "outputs": [
        {
          "output_type": "stream",
          "name": "stdout",
          "text": [
            "root\n",
            " |-- Regiao - Sigla: string (nullable = true)\n",
            " |-- Estado - Sigla: string (nullable = true)\n",
            " |-- Municipio: string (nullable = true)\n",
            " |-- Revenda: string (nullable = true)\n",
            " |-- CNPJ da Revenda: string (nullable = true)\n",
            " |-- Nome da Rua: string (nullable = true)\n",
            " |-- Numero Rua: string (nullable = true)\n",
            " |-- Complemento: string (nullable = true)\n",
            " |-- Bairro: string (nullable = true)\n",
            " |-- Cep: string (nullable = true)\n",
            " |-- Produto: string (nullable = true)\n",
            " |-- Data da Coleta: string (nullable = true)\n",
            " |-- Valor de Venda: string (nullable = true)\n",
            " |-- Valor de Compra: string (nullable = true)\n",
            " |-- Unidade de Medida: string (nullable = true)\n",
            " |-- Bandeira: string (nullable = true)\n",
            "\n"
          ]
        }
      ]
    },
    {
      "cell_type": "markdown",
      "source": [
        "verificando valores nulos"
      ],
      "metadata": {
        "id": "yxxLY4DNDtvJ"
      }
    },
    {
      "cell_type": "code",
      "source": [
        "#como o df é pequeno, podemos converter para pandas e executar comandos pandas, pois o pyspark não contém um verificador direto de nulos\n",
        "df.toPandas().isna().sum()"
      ],
      "metadata": {
        "colab": {
          "base_uri": "https://localhost:8080/",
          "height": 585
        },
        "id": "WTzhtvw3DtVA",
        "outputId": "85752827-6a34-4b9d-9dcb-32100a58b6ef"
      },
      "execution_count": null,
      "outputs": [
        {
          "output_type": "execute_result",
          "data": {
            "text/plain": [
              "Regiao - Sigla           0\n",
              "Estado - Sigla           0\n",
              "Municipio                0\n",
              "Revenda                  0\n",
              "CNPJ da Revenda          0\n",
              "Nome da Rua              0\n",
              "Numero Rua              12\n",
              "Complemento          35292\n",
              "Bairro                  56\n",
              "Cep                      0\n",
              "Produto                  0\n",
              "Data da Coleta           0\n",
              "Valor de Venda           0\n",
              "Valor de Compra      45119\n",
              "Unidade de Medida        0\n",
              "Bandeira                 0\n",
              "dtype: int64"
            ],
            "text/html": [
              "<div>\n",
              "<style scoped>\n",
              "    .dataframe tbody tr th:only-of-type {\n",
              "        vertical-align: middle;\n",
              "    }\n",
              "\n",
              "    .dataframe tbody tr th {\n",
              "        vertical-align: top;\n",
              "    }\n",
              "\n",
              "    .dataframe thead th {\n",
              "        text-align: right;\n",
              "    }\n",
              "</style>\n",
              "<table border=\"1\" class=\"dataframe\">\n",
              "  <thead>\n",
              "    <tr style=\"text-align: right;\">\n",
              "      <th></th>\n",
              "      <th>0</th>\n",
              "    </tr>\n",
              "  </thead>\n",
              "  <tbody>\n",
              "    <tr>\n",
              "      <th>Regiao - Sigla</th>\n",
              "      <td>0</td>\n",
              "    </tr>\n",
              "    <tr>\n",
              "      <th>Estado - Sigla</th>\n",
              "      <td>0</td>\n",
              "    </tr>\n",
              "    <tr>\n",
              "      <th>Municipio</th>\n",
              "      <td>0</td>\n",
              "    </tr>\n",
              "    <tr>\n",
              "      <th>Revenda</th>\n",
              "      <td>0</td>\n",
              "    </tr>\n",
              "    <tr>\n",
              "      <th>CNPJ da Revenda</th>\n",
              "      <td>0</td>\n",
              "    </tr>\n",
              "    <tr>\n",
              "      <th>Nome da Rua</th>\n",
              "      <td>0</td>\n",
              "    </tr>\n",
              "    <tr>\n",
              "      <th>Numero Rua</th>\n",
              "      <td>12</td>\n",
              "    </tr>\n",
              "    <tr>\n",
              "      <th>Complemento</th>\n",
              "      <td>35292</td>\n",
              "    </tr>\n",
              "    <tr>\n",
              "      <th>Bairro</th>\n",
              "      <td>56</td>\n",
              "    </tr>\n",
              "    <tr>\n",
              "      <th>Cep</th>\n",
              "      <td>0</td>\n",
              "    </tr>\n",
              "    <tr>\n",
              "      <th>Produto</th>\n",
              "      <td>0</td>\n",
              "    </tr>\n",
              "    <tr>\n",
              "      <th>Data da Coleta</th>\n",
              "      <td>0</td>\n",
              "    </tr>\n",
              "    <tr>\n",
              "      <th>Valor de Venda</th>\n",
              "      <td>0</td>\n",
              "    </tr>\n",
              "    <tr>\n",
              "      <th>Valor de Compra</th>\n",
              "      <td>45119</td>\n",
              "    </tr>\n",
              "    <tr>\n",
              "      <th>Unidade de Medida</th>\n",
              "      <td>0</td>\n",
              "    </tr>\n",
              "    <tr>\n",
              "      <th>Bandeira</th>\n",
              "      <td>0</td>\n",
              "    </tr>\n",
              "  </tbody>\n",
              "</table>\n",
              "</div><br><label><b>dtype:</b> int64</label>"
            ]
          },
          "metadata": {},
          "execution_count": 7
        }
      ]
    },
    {
      "cell_type": "code",
      "source": [
        "#agora, fazendo um loop for para contarmos quandos nulos há em cada coluna com pyspark\n",
        "#estamos usando o for pois não há funcão nativa para contar nulos como no pandas\n",
        "\n",
        "for coluna in df.columns:\n",
        "  print(coluna, df.filter(df[coluna].isNull()).count())"
      ],
      "metadata": {
        "colab": {
          "base_uri": "https://localhost:8080/"
        },
        "id": "D_uk4aQGESeh",
        "outputId": "7803609c-1945-4ac6-c453-030337712a58"
      },
      "execution_count": null,
      "outputs": [
        {
          "output_type": "stream",
          "name": "stdout",
          "text": [
            "Regiao - Sigla 0\n",
            "Estado - Sigla 0\n",
            "Municipio 0\n",
            "Revenda 0\n",
            "CNPJ da Revenda 0\n",
            "Nome da Rua 0\n",
            "Numero Rua 12\n",
            "Complemento 35292\n",
            "Bairro 56\n",
            "Cep 0\n",
            "Produto 0\n",
            "Data da Coleta 0\n",
            "Valor de Venda 0\n",
            "Valor de Compra 45119\n",
            "Unidade de Medida 0\n",
            "Bandeira 0\n"
          ]
        }
      ]
    },
    {
      "cell_type": "markdown",
      "source": [
        "renomeando colunas"
      ],
      "metadata": {
        "id": "m8r73kvsFnVV"
      }
    },
    {
      "cell_type": "code",
      "source": [
        "df_2 = df.withColumnRenamed('Regiao - Sigla', 'regiao')\\\n",
        "      .withColumnRenamed('Estado - Sigla', 'estado')\\\n",
        "      .withColumnRenamed('Municipio', 'municipio')\\\n",
        "      .withColumnRenamed('Revenda', 'revenda')\\\n",
        "      .withColumnRenamed('CNPJ da Revenda', 'cnpj')\\\n",
        "      .withColumnRenamed('Nome da Rua', 'nomerua')\\\n",
        "      .withColumnRenamed('Numero da Rua', 'numerorua')\\\n",
        "      .withColumnRenamed('Complemento', 'complemento')\\\n",
        "      .withColumnRenamed('Bairro', 'bairro')\\\n",
        "      .withColumnRenamed('Cep', 'cep')\\\n",
        "      .withColumnRenamed('Produto', 'produto')\\\n",
        "      .withColumnRenamed('Data da Coleta', 'datacoleta')\\\n",
        "      .withColumnRenamed('Valor de Venda', 'vlrvenda')\\\n",
        "      .withColumnRenamed('Valor de Compra', 'vlrcompra')\\\n",
        "      .withColumnRenamed('Unidade de Medida', 'unidmedida')\\\n",
        "      .withColumnRenamed('Bandeira', 'bandeira')\\\n",
        "\n",
        "df_2.show(3)"
      ],
      "metadata": {
        "colab": {
          "base_uri": "https://localhost:8080/"
        },
        "id": "P7u-VQS6Fqrc",
        "outputId": "c2911f30-7312-4496-e13d-b110fe957667"
      },
      "execution_count": null,
      "outputs": [
        {
          "output_type": "stream",
          "name": "stdout",
          "text": [
            "+------+------+---------+--------------------+-------------------+--------------------+----------+--------------+--------------+---------+------------------+----------+--------+---------+----------+--------+\n",
            "|regiao|estado|municipio|             revenda|               cnpj|             nomerua|Numero Rua|   complemento|        bairro|      cep|           produto|datacoleta|vlrvenda|vlrcompra|unidmedida|bandeira|\n",
            "+------+------+---------+--------------------+-------------------+--------------------+----------+--------------+--------------+---------+------------------+----------+--------+---------+----------+--------+\n",
            "|     N|    AM|PARINTINS|F.J. COMERCIO DE ...| 09.368.602/0001-70|         RUA PARAIBA|        41|CONJ  MACURANY|RAIMUNDO MUNIZ|69151-456|          GASOLINA|01/08/2024|    7,68|     NULL|R$ / litro|  BRANCA|\n",
            "|     N|    AM|PARINTINS|F.J. COMERCIO DE ...| 09.368.602/0001-70|         RUA PARAIBA|        41|CONJ  MACURANY|RAIMUNDO MUNIZ|69151-456|GASOLINA ADITIVADA|01/08/2024|    7,68|     NULL|R$ / litro|  BRANCA|\n",
            "|    NE|    CE|ITAPIPOCA|SAO PEDRO COM VAR...| 01.632.155/0002-94|AVENIDA MONSENHOR...|      2771|          NULL|         JULHO|62505-650|          GASOLINA|01/08/2024|    6,77|     NULL|R$ / litro|     ALE|\n",
            "+------+------+---------+--------------------+-------------------+--------------------+----------+--------------+--------------+---------+------------------+----------+--------+---------+----------+--------+\n",
            "only showing top 3 rows\n",
            "\n"
          ]
        }
      ]
    },
    {
      "cell_type": "markdown",
      "source": [
        "fazendo um replace"
      ],
      "metadata": {
        "id": "wYaHDuMIcQqO"
      }
    },
    {
      "cell_type": "code",
      "source": [
        "df_2 = df_2.withColumn('vlrvenda', regexp_replace('vlrvenda', ',', '.'))"
      ],
      "metadata": {
        "id": "j1Xk5r7AcQUN"
      },
      "execution_count": null,
      "outputs": []
    },
    {
      "cell_type": "markdown",
      "source": [
        "alterando o tipo dos dados"
      ],
      "metadata": {
        "id": "fRC7pK5bH9Mp"
      }
    },
    {
      "cell_type": "code",
      "source": [
        "df_3 = df_2\\\n",
        "        .withColumn('datacoleta', to_date('datacoleta', format='dd/MM/yyyy'))\\\n",
        "        .withColumn('vlrvenda', df_2['vlrvenda'].cast(FloatType()))\\\n",
        "\n",
        "df_3.printSchema()"
      ],
      "metadata": {
        "colab": {
          "base_uri": "https://localhost:8080/"
        },
        "id": "Ck4DwKe7IAtA",
        "outputId": "013f0b99-87d8-45b9-a449-149cb85383c0"
      },
      "execution_count": null,
      "outputs": [
        {
          "output_type": "stream",
          "name": "stdout",
          "text": [
            "root\n",
            " |-- regiao: string (nullable = true)\n",
            " |-- estado: string (nullable = true)\n",
            " |-- municipio: string (nullable = true)\n",
            " |-- revenda: string (nullable = true)\n",
            " |-- cnpj: string (nullable = true)\n",
            " |-- nomerua: string (nullable = true)\n",
            " |-- Numero Rua: string (nullable = true)\n",
            " |-- complemento: string (nullable = true)\n",
            " |-- bairro: string (nullable = true)\n",
            " |-- cep: string (nullable = true)\n",
            " |-- produto: string (nullable = true)\n",
            " |-- datacoleta: date (nullable = true)\n",
            " |-- vlrvenda: float (nullable = true)\n",
            " |-- vlrcompra: string (nullable = true)\n",
            " |-- unidmedida: string (nullable = true)\n",
            " |-- bandeira: string (nullable = true)\n",
            "\n"
          ]
        }
      ]
    },
    {
      "cell_type": "markdown",
      "source": [
        "selecionando colunas"
      ],
      "metadata": {
        "id": "wduhxSv1Kt4c"
      }
    },
    {
      "cell_type": "code",
      "source": [
        "#Selecionando apenas uma coluna\n",
        "df_3.select('regiao').show(5)"
      ],
      "metadata": {
        "colab": {
          "base_uri": "https://localhost:8080/"
        },
        "id": "IQCtbIESLWgn",
        "outputId": "e1c08cc6-44b2-4985-ee26-5b696870470c"
      },
      "execution_count": null,
      "outputs": [
        {
          "output_type": "stream",
          "name": "stdout",
          "text": [
            "+------+\n",
            "|regiao|\n",
            "+------+\n",
            "|     N|\n",
            "|     N|\n",
            "|    NE|\n",
            "|    NE|\n",
            "|    NE|\n",
            "+------+\n",
            "only showing top 5 rows\n",
            "\n"
          ]
        }
      ]
    },
    {
      "cell_type": "code",
      "source": [
        "#selecionando valores únicos da coluna\n",
        "df_3.select('regiao').distinct().show(10)"
      ],
      "metadata": {
        "colab": {
          "base_uri": "https://localhost:8080/"
        },
        "id": "jy3umPQAKtMG",
        "outputId": "a71c9ae0-ff2e-4cbe-d326-a919defe21d8"
      },
      "execution_count": null,
      "outputs": [
        {
          "output_type": "stream",
          "name": "stdout",
          "text": [
            "+------+\n",
            "|regiao|\n",
            "+------+\n",
            "|    NE|\n",
            "|     N|\n",
            "|     S|\n",
            "|    SE|\n",
            "|    CO|\n",
            "+------+\n",
            "\n"
          ]
        }
      ]
    },
    {
      "cell_type": "code",
      "source": [
        "#Por que usar 'col' se podemos chamar a coluna apenas com o 'select'\n",
        "#Pois com o 'col', podemos usar uma função em cima da coluna e apenas com o select não\n",
        "df_3.select(col('regiao')).distinct().show()"
      ],
      "metadata": {
        "colab": {
          "base_uri": "https://localhost:8080/"
        },
        "id": "oPrNwn8CM2mC",
        "outputId": "4e7220fa-728a-44b3-bd9e-b53b10233fb1"
      },
      "execution_count": null,
      "outputs": [
        {
          "output_type": "stream",
          "name": "stdout",
          "text": [
            "+------+\n",
            "|regiao|\n",
            "+------+\n",
            "|    NE|\n",
            "|     N|\n",
            "|     S|\n",
            "|    SE|\n",
            "|    CO|\n",
            "+------+\n",
            "\n"
          ]
        }
      ]
    },
    {
      "cell_type": "code",
      "source": [
        "#nesse caso, não retorna erro, pois agora além de chamar a coluna, podemos executar funções sobre a colua\n",
        "df_3.select(col('regiao').alias('novo_nome')).distinct().show()"
      ],
      "metadata": {
        "colab": {
          "base_uri": "https://localhost:8080/"
        },
        "id": "UxtYzaEpNZrA",
        "outputId": "3a82890d-f1b3-4d62-b7b9-9dda47c243a4"
      },
      "execution_count": null,
      "outputs": [
        {
          "output_type": "stream",
          "name": "stdout",
          "text": [
            "+---------+\n",
            "|novo_nome|\n",
            "+---------+\n",
            "|       NE|\n",
            "|        N|\n",
            "|        S|\n",
            "|       SE|\n",
            "|       CO|\n",
            "+---------+\n",
            "\n"
          ]
        }
      ]
    },
    {
      "cell_type": "code",
      "source": [
        "#Assim como no SQL, podemos chamar as colunas de acordo com a orderm que queros exibilas e não na ordem do df original\n",
        "df_3.select(col('bairro'),\n",
        "            col('complemento'),\n",
        "            col('regiao'))\\\n",
        "            .show(3)"
      ],
      "metadata": {
        "colab": {
          "base_uri": "https://localhost:8080/"
        },
        "id": "8d16xj4jOOHK",
        "outputId": "700f3cfb-f82d-487d-f877-0a5239697295"
      },
      "execution_count": null,
      "outputs": [
        {
          "output_type": "stream",
          "name": "stdout",
          "text": [
            "+--------------+--------------+------+\n",
            "|        bairro|   complemento|regiao|\n",
            "+--------------+--------------+------+\n",
            "|RAIMUNDO MUNIZ|CONJ  MACURANY|     N|\n",
            "|RAIMUNDO MUNIZ|CONJ  MACURANY|     N|\n",
            "|         JULHO|          NULL|    NE|\n",
            "+--------------+--------------+------+\n",
            "only showing top 3 rows\n",
            "\n"
          ]
        }
      ]
    },
    {
      "cell_type": "code",
      "source": [
        "#ou, já que queremos só exibir, podemos usar apenas o select\n",
        "df_3.select('bairro', 'complemento', 'regiao').show(3)"
      ],
      "metadata": {
        "colab": {
          "base_uri": "https://localhost:8080/"
        },
        "id": "gq8J2grSPjw_",
        "outputId": "9b31e9f7-9428-48b4-c228-e75445e7ca18"
      },
      "execution_count": null,
      "outputs": [
        {
          "output_type": "stream",
          "name": "stdout",
          "text": [
            "+--------------+--------------+------+\n",
            "|        bairro|   complemento|regiao|\n",
            "+--------------+--------------+------+\n",
            "|RAIMUNDO MUNIZ|CONJ  MACURANY|     N|\n",
            "|RAIMUNDO MUNIZ|CONJ  MACURANY|     N|\n",
            "|         JULHO|          NULL|    NE|\n",
            "+--------------+--------------+------+\n",
            "only showing top 3 rows\n",
            "\n"
          ]
        }
      ]
    },
    {
      "cell_type": "markdown",
      "source": [
        "filtrando colunas"
      ],
      "metadata": {
        "id": "9sN_GxqdRB1i"
      }
    },
    {
      "cell_type": "code",
      "source": [
        "#forma \"correta\", porém limitada de aplicar um filtro no pyspark\n",
        "df_3.filter('bairro = \"RAIMUNDO MUNIZ\"').show()"
      ],
      "metadata": {
        "colab": {
          "base_uri": "https://localhost:8080/"
        },
        "id": "gwpPAkJZP-oI",
        "outputId": "f8d000ba-13fd-4ae6-9d9f-1d348a8b56bd"
      },
      "execution_count": null,
      "outputs": [
        {
          "output_type": "stream",
          "name": "stdout",
          "text": [
            "+------+------+---------+--------------------+-------------------+-----------+----------+--------------+--------------+---------+------------------+----------+--------+---------+----------+--------+\n",
            "|regiao|estado|municipio|             revenda|               cnpj|    nomerua|Numero Rua|   complemento|        bairro|      cep|           produto|datacoleta|vlrvenda|vlrcompra|unidmedida|bandeira|\n",
            "+------+------+---------+--------------------+-------------------+-----------+----------+--------------+--------------+---------+------------------+----------+--------+---------+----------+--------+\n",
            "|     N|    AM|PARINTINS|F.J. COMERCIO DE ...| 09.368.602/0001-70|RUA PARAIBA|        41|CONJ  MACURANY|RAIMUNDO MUNIZ|69151-456|          GASOLINA|2024-08-01|    7.68|     NULL|R$ / litro|  BRANCA|\n",
            "|     N|    AM|PARINTINS|F.J. COMERCIO DE ...| 09.368.602/0001-70|RUA PARAIBA|        41|CONJ  MACURANY|RAIMUNDO MUNIZ|69151-456|GASOLINA ADITIVADA|2024-08-01|    7.68|     NULL|R$ / litro|  BRANCA|\n",
            "|     N|    AM|PARINTINS|F.J. COMERCIO DE ...| 09.368.602/0001-70|RUA PARAIBA|        41|CONJ  MACURANY|RAIMUNDO MUNIZ|69151-456|          GASOLINA|2024-08-08|    7.68|     NULL|R$ / litro|  BRANCA|\n",
            "|     N|    AM|PARINTINS|F.J. COMERCIO DE ...| 09.368.602/0001-70|RUA PARAIBA|        41|CONJ  MACURANY|RAIMUNDO MUNIZ|69151-456|GASOLINA ADITIVADA|2024-08-08|    7.68|     NULL|R$ / litro|  BRANCA|\n",
            "|     N|    AM|PARINTINS|F.J. COMERCIO DE ...| 09.368.602/0001-70|RUA PARAIBA|        41|CONJ  MACURANY|RAIMUNDO MUNIZ|69151-456|          GASOLINA|2024-08-16|    7.68|     NULL|R$ / litro|  BRANCA|\n",
            "|     N|    AM|PARINTINS|F.J. COMERCIO DE ...| 09.368.602/0001-70|RUA PARAIBA|        41|CONJ  MACURANY|RAIMUNDO MUNIZ|69151-456|GASOLINA ADITIVADA|2024-08-16|    7.68|     NULL|R$ / litro|  BRANCA|\n",
            "|     N|    AM|PARINTINS|F.J. COMERCIO DE ...| 09.368.602/0001-70|RUA PARAIBA|        41|CONJ  MACURANY|RAIMUNDO MUNIZ|69151-456|          GASOLINA|2024-08-22|    7.68|     NULL|R$ / litro|  BRANCA|\n",
            "|     N|    AM|PARINTINS|F.J. COMERCIO DE ...| 09.368.602/0001-70|RUA PARAIBA|        41|CONJ  MACURANY|RAIMUNDO MUNIZ|69151-456|GASOLINA ADITIVADA|2024-08-22|    7.68|     NULL|R$ / litro|  BRANCA|\n",
            "|     N|    AM|PARINTINS|F.J. COMERCIO DE ...| 09.368.602/0001-70|RUA PARAIBA|        41|CONJ  MACURANY|RAIMUNDO MUNIZ|69151-456|          GASOLINA|2024-08-29|    7.68|     NULL|R$ / litro|  BRANCA|\n",
            "|     N|    AM|PARINTINS|F.J. COMERCIO DE ...| 09.368.602/0001-70|RUA PARAIBA|        41|CONJ  MACURANY|RAIMUNDO MUNIZ|69151-456|GASOLINA ADITIVADA|2024-08-29|    7.68|     NULL|R$ / litro|  BRANCA|\n",
            "+------+------+---------+--------------------+-------------------+-----------+----------+--------------+--------------+---------+------------------+----------+--------+---------+----------+--------+\n",
            "\n"
          ]
        }
      ]
    },
    {
      "cell_type": "code",
      "source": [
        "df_3.select(col('produto')).distinct().show()"
      ],
      "metadata": {
        "colab": {
          "base_uri": "https://localhost:8080/"
        },
        "id": "_NK6tp7eeJTS",
        "outputId": "21a1eedc-594e-44e6-a1d0-244a593eae31"
      },
      "execution_count": null,
      "outputs": [
        {
          "output_type": "stream",
          "name": "stdout",
          "text": [
            "+------------------+\n",
            "|           produto|\n",
            "+------------------+\n",
            "|GASOLINA ADITIVADA|\n",
            "|            ETANOL|\n",
            "|          GASOLINA|\n",
            "+------------------+\n",
            "\n"
          ]
        }
      ]
    },
    {
      "cell_type": "code",
      "source": [
        "#forma correta de aplicar um filtro em uma coluna\n",
        "df_3.filter(\n",
        "    (col('municipio') == \"SAO PAULO\") &\n",
        "    ((col('produto') == \"GASOLINA\") | (col('produto') == \"ETANOL\")) &\n",
        "    (col('vlrvenda') > 5)\n",
        ").show(20)"
      ],
      "metadata": {
        "colab": {
          "base_uri": "https://localhost:8080/"
        },
        "id": "uk82-KxNSnIN",
        "outputId": "74f51814-3d90-49d2-ae99-19dcf8d09ab3"
      },
      "execution_count": null,
      "outputs": [
        {
          "output_type": "stream",
          "name": "stdout",
          "text": [
            "+------+------+---------+--------------------+-------------------+--------------------+----------+--------------------+--------------------+---------+--------+----------+--------+---------+----------+--------+\n",
            "|regiao|estado|municipio|             revenda|               cnpj|             nomerua|Numero Rua|         complemento|              bairro|      cep| produto|datacoleta|vlrvenda|vlrcompra|unidmedida|bandeira|\n",
            "+------+------+---------+--------------------+-------------------+--------------------+----------+--------------------+--------------------+---------+--------+----------+--------+---------+----------+--------+\n",
            "|    SE|    SP|SAO PAULO|AUTO POSTO CAVALL...| 04.885.965/0001-60|AVENIDA NOSSA SEN...|      1145|                NULL|      FREGUESIA DO Ó|02715-000|GASOLINA|2024-08-05|    5.78|     NULL|R$ / litro|IPIRANGA|\n",
            "|    SE|    SP|SAO PAULO|GAIVOTA SERVICOS ...| 02.756.935/0001-28|     AVENIDA COTOVIA|       555|                NULL|               MOEMA|04517-001|GASOLINA|2024-08-05|    6.29|     NULL|R$ / litro|  RAIZEN|\n",
            "|    SE|    SP|SAO PAULO|ARGETAX ADMINISTR...| 04.383.988/0005-08|AVENIDA CELSO GARCIA|      1472|                NULL|               BELEM|03014-000|GASOLINA|2024-08-05|    5.49|     NULL|R$ / litro|  BRANCA|\n",
            "|    SE|    SP|SAO PAULO|AUTO POSTO TABARE...| 04.509.464/0001-89|AVENIDA NOSSA SEN...|      3936|                NULL|   JD. HILTON SANTOS|04447-020|GASOLINA|2024-08-05|    5.09|     NULL|R$ / litro|  BRANCA|\n",
            "|    SE|    SP|SAO PAULO|POSTO DE SERVICOS...| 02.693.579/0001-40|   ESTRADA DE TAIPAS|      3075|                NULL|             JARAGUA|02991-000|GASOLINA|2024-08-05|    5.69|     NULL|R$ / litro|  BRANCA|\n",
            "|    SE|    SP|SAO PAULO|NOVASOC COMERCIAL...| 03.139.761/0030-51|RUA DR. AUDIZIO D...|       251|               PARTE|            IPIRANGA|04279-090|GASOLINA|2024-08-05|    5.64|     NULL|R$ / litro|IPIRANGA|\n",
            "|    SE|    SP|SAO PAULO|AUTO POSTO BIXIGA...| 06.004.405/0001-84|    RUA MANOEL DUTRA|       288|ESQ R  J PASSALACQUA|          BELA VISTA|01328-010|GASOLINA|2024-08-05|    5.67|     NULL|R$ / litro|   VIBRA|\n",
            "|    SE|    SP|SAO PAULO|BR SUL AUTO POSTO...| 07.014.792/0001-00|AVENIDA SENADOR T...|      2631|                NULL|        CIDADE DUTRA|04801-010|GASOLINA|2024-08-05|    5.59|     NULL|R$ / litro|  BRANCA|\n",
            "|    SE|    SP|SAO PAULO|POSTO NOSSA SENHO...| 05.051.921/0001-05|AVENIDA WASHINGTO...|      3349|                NULL|CHACARA MONTE ALEGRE|04627-000|GASOLINA|2024-08-05|    5.67|     NULL|R$ / litro|  BRANCA|\n",
            "|    SE|    SP|SAO PAULO|SABIA POSTO DE SE...| 05.915.468/0001-20| AVENIDA SANTO AMARO|     1,543|                NULL|VILA NOV A CONCEICAO|04505-002|GASOLINA|2024-08-05|    5.79|     NULL|R$ / litro|   VIBRA|\n",
            "|    SE|    SP|SAO PAULO|MEGA FLORA AUTO P...| 07.157.989/0001-90|AVENIDA WASHINGTO...|      1354|                NULL|         SANTO AMARO|04662-002|GASOLINA|2024-08-05|    6.09|     NULL|R$ / litro|IPIRANGA|\n",
            "|    SE|    SP|SAO PAULO|CENTRO AUTOMOTIVO...| 06.106.738/0001-14| RUA ANTONIO BEZERRA|       205|                NULL|           VILA VERA|04296-070|GASOLINA|2024-08-05|    5.29|     NULL|R$ / litro|  BRANCA|\n",
            "|    SE|    SP|SAO PAULO|AUTO POSTO MULTMA...| 06.148.911/0001-47|AVENIDA RIO DAS P...|      1816|                NULL|   JARDIM ARICANDUVA|03452-100|GASOLINA|2024-08-05|    5.99|     NULL|R$ / litro|  RAIZEN|\n",
            "|    SE|    SP|SAO PAULO|AUTO POSTO TREZEN...| 06.939.568/0001-59|RUA SAO JOAO CLIMACO|       300|                NULL|    SAO JOAO CLIMACO|04255-000|GASOLINA|2024-08-05|    5.78|     NULL|R$ / litro|     ALE|\n",
            "|    SE|    SP|SAO PAULO|AUTO POSTO JULJOR...| 03.924.510/0001-43|ESTRADA DOS REMEDIOS|         2|                   A|            PIRITUBA|05107-000|GASOLINA|2024-08-05|    5.59|     NULL|R$ / litro|  BRANCA|\n",
            "|    SE|    SP|SAO PAULO|WGAS RB AUTO POST...| 06.942.306/0001-43|AVENIDA SEN TEOTO...|      2004|                NULL|        CIDADE DUTRA|04801-000|GASOLINA|2024-08-05|    5.45|     NULL|R$ / litro|  BRANCA|\n",
            "|    SE|    SP|SAO PAULO| AUTO POSTO X 5 LTDA| 07.093.748/0001-25|  RUA LOPES DA COSTA|      1091|                NULL|    CHACARA SAO JOAO|02279-060|GASOLINA|2024-08-05|    5.69|     NULL|R$ / litro|IPIRANGA|\n",
            "|    SE|    SP|SAO PAULO|POSTO DE SERVICOS...| 05.999.187/0001-00|AVENIDA SALIM FAR...|      4310|                NULL|       VILA ORATORIO|03194-010|GASOLINA|2024-08-05|    5.59|     NULL|R$ / litro|IPIRANGA|\n",
            "|    SE|    SP|SAO PAULO|AUTO POSTO TERCEI...| 07.058.574/0001-60|AVENIDA RAIMUNDO ...|     12121|                NULL|    PARADA DE TAIPAS|02938-000|GASOLINA|2024-08-05|    5.59|     NULL|R$ / litro|  BRANCA|\n",
            "|    SE|    SP|SAO PAULO|ORION AUTO POSTO ...| 06.142.901/0001-02|AVENIDA JAGUARE (...|       740|                NULL|             JAGUARE|05346-000|GASOLINA|2024-08-05|    5.89|     NULL|R$ / litro|  RAIZEN|\n",
            "+------+------+---------+--------------------+-------------------+--------------------+----------+--------------------+--------------------+---------+--------+----------+--------+---------+----------+--------+\n",
            "only showing top 20 rows\n",
            "\n"
          ]
        }
      ]
    },
    {
      "cell_type": "markdown",
      "source": [
        "Criando novas colunas\n"
      ],
      "metadata": {
        "id": "J1oEbn3M5tly"
      }
    },
    {
      "cell_type": "code",
      "source": [
        "#Se eu colocar uma coluna que já existe no .withColumn('coluna_existente), ele vai alterar essa coluna já existente\n",
        "\n",
        "#Criando uma coluna nova, onde concateno dois valores\n",
        "\n",
        "#Nesse caso não estou criando, estou apenas \"exibindo\" o mesmo df, por exemplo, se eu der um df_3.show() em baixo, ele não terá a coluna concatenar,\n",
        "    #pois não reescrevi o antigo df com a coluna nova, apenas exibi\n",
        "df_3.withColumn('contat', concat(col('regiao'), col('estado')))"
      ],
      "metadata": {
        "id": "EcFOIVmXXqSa",
        "colab": {
          "base_uri": "https://localhost:8080/"
        },
        "outputId": "31578b97-cbea-4353-8404-474550c923eb"
      },
      "execution_count": null,
      "outputs": [
        {
          "output_type": "execute_result",
          "data": {
            "text/plain": [
              "DataFrame[regiao: string, estado: string, municipio: string, revenda: string, cnpj: string, nomerua: string, Numero Rua: string, complemento: string, bairro: string, cep: string, produto: string, datacoleta: date, vlrvenda: float, vlrcompra: string, unidmedida: string, bandeira: string, contat: string]"
            ]
          },
          "metadata": {},
          "execution_count": 21
        }
      ]
    },
    {
      "cell_type": "code",
      "source": [
        "df_3.show()"
      ],
      "metadata": {
        "colab": {
          "base_uri": "https://localhost:8080/"
        },
        "id": "IKpWKpkdLOa-",
        "outputId": "3e5ae045-e71e-438b-ac28-0bd82f219d3e"
      },
      "execution_count": null,
      "outputs": [
        {
          "output_type": "stream",
          "name": "stdout",
          "text": [
            "+------+------+---------+--------------------+-------------------+--------------------+----------+--------------+----------------+---------+------------------+----------+--------+---------+----------+--------+\n",
            "|regiao|estado|municipio|             revenda|               cnpj|             nomerua|Numero Rua|   complemento|          bairro|      cep|           produto|datacoleta|vlrvenda|vlrcompra|unidmedida|bandeira|\n",
            "+------+------+---------+--------------------+-------------------+--------------------+----------+--------------+----------------+---------+------------------+----------+--------+---------+----------+--------+\n",
            "|     N|    AM|PARINTINS|F.J. COMERCIO DE ...| 09.368.602/0001-70|         RUA PARAIBA|        41|CONJ  MACURANY|  RAIMUNDO MUNIZ|69151-456|          GASOLINA|2024-08-01|    7.68|     NULL|R$ / litro|  BRANCA|\n",
            "|     N|    AM|PARINTINS|F.J. COMERCIO DE ...| 09.368.602/0001-70|         RUA PARAIBA|        41|CONJ  MACURANY|  RAIMUNDO MUNIZ|69151-456|GASOLINA ADITIVADA|2024-08-01|    7.68|     NULL|R$ / litro|  BRANCA|\n",
            "|    NE|    CE|ITAPIPOCA|SAO PEDRO COM VAR...| 01.632.155/0002-94|AVENIDA MONSENHOR...|      2771|          NULL|           JULHO|62505-650|          GASOLINA|2024-08-01|    6.77|     NULL|R$ / litro|     ALE|\n",
            "|    NE|    CE|ITAPIPOCA|SAO PEDRO COM VAR...| 01.632.155/0002-94|AVENIDA MONSENHOR...|      2771|          NULL|           JULHO|62505-650|GASOLINA ADITIVADA|2024-08-01|    6.78|     NULL|R$ / litro|     ALE|\n",
            "|    NE|    CE|ITAPIPOCA|SAO PEDRO COM VAR...| 01.632.155/0002-94|AVENIDA MONSENHOR...|      2771|          NULL|           JULHO|62505-650|            ETANOL|2024-08-01|    5.24|     NULL|R$ / litro|     ALE|\n",
            "|    NE|    CE|ITAPIPOCA|COMERCIAL ITAPIPO...| 23.463.268/0001-65|RUA JOSE DO PATRO...|      1023|          NULL|        COQUEIRO|62508-048|          GASOLINA|2024-08-01|    6.79|     NULL|R$ / litro|IPIRANGA|\n",
            "|    NE|    CE|ITAPIPOCA|COMERCIAL ITAPIPO...| 23.463.268/0001-65|RUA JOSE DO PATRO...|      1023|          NULL|        COQUEIRO|62508-048|GASOLINA ADITIVADA|2024-08-01|    6.79|     NULL|R$ / litro|IPIRANGA|\n",
            "|    NE|    CE|ITAPIPOCA|COMERCIAL ITAPIPO...| 23.463.268/0001-65|RUA JOSE DO PATRO...|      1023|          NULL|        COQUEIRO|62508-048|            ETANOL|2024-08-01|    5.24|     NULL|R$ / litro|IPIRANGA|\n",
            "|    NE|    CE|   SOBRAL|ECONOGÁS DO BRASI...| 08.775.979/0002-62|RUA TABELIÃO IDEL...|       455|          NULL|          CENTRO|62010-000|          GASOLINA|2024-08-01|    6.68|     NULL|R$ / litro|  RAIZEN|\n",
            "|    NE|    CE|   SOBRAL|ECONOGÁS DO BRASI...| 08.775.979/0002-62|RUA TABELIÃO IDEL...|       455|          NULL|          CENTRO|62010-000|GASOLINA ADITIVADA|2024-08-01|    6.88|     NULL|R$ / litro|  RAIZEN|\n",
            "|    NE|    CE|   SOBRAL|ECONOGÁS DO BRASI...| 08.775.979/0002-62|RUA TABELIÃO IDEL...|       455|          NULL|          CENTRO|62010-000|            ETANOL|2024-08-01|    4.99|     NULL|R$ / litro|  RAIZEN|\n",
            "|    NE|    CE|   SOBRAL|T. C. DE VASCONCE...| 07.380.155/0002-20|AVENIDA CEL. JOSE...|       970|          NULL|     EXPECTATIVA|62040-254|          GASOLINA|2024-08-01|    6.69|     NULL|R$ / litro|   VIBRA|\n",
            "|    NE|    CE|   SOBRAL|T. C. DE VASCONCE...| 07.380.155/0002-20|AVENIDA CEL. JOSE...|       970|          NULL|     EXPECTATIVA|62040-254|GASOLINA ADITIVADA|2024-08-01|    6.79|     NULL|R$ / litro|   VIBRA|\n",
            "|    NE|    CE|   SOBRAL|T. C. DE VASCONCE...| 07.380.155/0002-20|AVENIDA CEL. JOSE...|       970|          NULL|     EXPECTATIVA|62040-254|            ETANOL|2024-08-01|    5.29|     NULL|R$ / litro|   VIBRA|\n",
            "|    NE|    CE|   SOBRAL|AUTO POSTO PIONEI...| 07.428.286/0001-50|AVENIDA JOHN SANFORD|       704|          NULL|           JUNCO|62030-000|          GASOLINA|2024-08-01|    6.69|     NULL|R$ / litro|   VIBRA|\n",
            "|    NE|    CE|   SOBRAL|AUTO POSTO PIONEI...| 07.428.286/0001-50|AVENIDA JOHN SANFORD|       704|          NULL|           JUNCO|62030-000|GASOLINA ADITIVADA|2024-08-01|    6.79|     NULL|R$ / litro|   VIBRA|\n",
            "|    NE|    CE|   SOBRAL|AUTO POSTO PIONEI...| 07.428.286/0001-50|AVENIDA JOHN SANFORD|       704|          NULL|           JUNCO|62030-000|            ETANOL|2024-08-01|    5.29|     NULL|R$ / litro|   VIBRA|\n",
            "|    NE|    CE|   SOBRAL|V.C.EMPREENDIMENT...| 03.551.935/0002-35|AVENIDA JOSE EUCL...|        30|   POSTO FLASH|CORACAO DE JESUS|62043-070|          GASOLINA|2024-08-01|    6.68|     NULL|R$ / litro|  RAIZEN|\n",
            "|    NE|    CE|   SOBRAL|V.C.EMPREENDIMENT...| 03.551.935/0002-35|AVENIDA JOSE EUCL...|        30|   POSTO FLASH|CORACAO DE JESUS|62043-070|GASOLINA ADITIVADA|2024-08-01|    6.98|     NULL|R$ / litro|  RAIZEN|\n",
            "|    NE|    CE|   SOBRAL|V.C.EMPREENDIMENT...| 03.551.935/0002-35|AVENIDA JOSE EUCL...|        30|   POSTO FLASH|CORACAO DE JESUS|62043-070|            ETANOL|2024-08-01|    5.29|     NULL|R$ / litro|  RAIZEN|\n",
            "+------+------+---------+--------------------+-------------------+--------------------+----------+--------------+----------------+---------+------------------+----------+--------+---------+----------+--------+\n",
            "only showing top 20 rows\n",
            "\n"
          ]
        }
      ]
    },
    {
      "cell_type": "code",
      "source": [
        "#Fazendo um concat_ws (with separetor)\n",
        "\n",
        "df_3.withColumn('concat', concat_ws('_', col('regiao'), col('estado')))"
      ],
      "metadata": {
        "id": "mRJufkbXGI97",
        "colab": {
          "base_uri": "https://localhost:8080/"
        },
        "outputId": "1929cbb9-3508-4f46-ffd7-89b9e753243c"
      },
      "execution_count": null,
      "outputs": [
        {
          "output_type": "execute_result",
          "data": {
            "text/plain": [
              "DataFrame[regiao: string, estado: string, municipio: string, revenda: string, cnpj: string, nomerua: string, Numero Rua: string, complemento: string, bairro: string, cep: string, produto: string, datacoleta: date, vlrvenda: float, vlrcompra: string, unidmedida: string, bandeira: string, concat: string]"
            ]
          },
          "metadata": {},
          "execution_count": 23
        }
      ]
    },
    {
      "cell_type": "code",
      "source": [
        "df_3.show()"
      ],
      "metadata": {
        "colab": {
          "base_uri": "https://localhost:8080/"
        },
        "id": "QJrMmpGyLTC1",
        "outputId": "6b4b632e-b834-45d8-ca8a-3ecb9082ac54"
      },
      "execution_count": null,
      "outputs": [
        {
          "output_type": "stream",
          "name": "stdout",
          "text": [
            "+------+------+---------+--------------------+-------------------+--------------------+----------+--------------+----------------+---------+------------------+----------+--------+---------+----------+--------+\n",
            "|regiao|estado|municipio|             revenda|               cnpj|             nomerua|Numero Rua|   complemento|          bairro|      cep|           produto|datacoleta|vlrvenda|vlrcompra|unidmedida|bandeira|\n",
            "+------+------+---------+--------------------+-------------------+--------------------+----------+--------------+----------------+---------+------------------+----------+--------+---------+----------+--------+\n",
            "|     N|    AM|PARINTINS|F.J. COMERCIO DE ...| 09.368.602/0001-70|         RUA PARAIBA|        41|CONJ  MACURANY|  RAIMUNDO MUNIZ|69151-456|          GASOLINA|2024-08-01|    7.68|     NULL|R$ / litro|  BRANCA|\n",
            "|     N|    AM|PARINTINS|F.J. COMERCIO DE ...| 09.368.602/0001-70|         RUA PARAIBA|        41|CONJ  MACURANY|  RAIMUNDO MUNIZ|69151-456|GASOLINA ADITIVADA|2024-08-01|    7.68|     NULL|R$ / litro|  BRANCA|\n",
            "|    NE|    CE|ITAPIPOCA|SAO PEDRO COM VAR...| 01.632.155/0002-94|AVENIDA MONSENHOR...|      2771|          NULL|           JULHO|62505-650|          GASOLINA|2024-08-01|    6.77|     NULL|R$ / litro|     ALE|\n",
            "|    NE|    CE|ITAPIPOCA|SAO PEDRO COM VAR...| 01.632.155/0002-94|AVENIDA MONSENHOR...|      2771|          NULL|           JULHO|62505-650|GASOLINA ADITIVADA|2024-08-01|    6.78|     NULL|R$ / litro|     ALE|\n",
            "|    NE|    CE|ITAPIPOCA|SAO PEDRO COM VAR...| 01.632.155/0002-94|AVENIDA MONSENHOR...|      2771|          NULL|           JULHO|62505-650|            ETANOL|2024-08-01|    5.24|     NULL|R$ / litro|     ALE|\n",
            "|    NE|    CE|ITAPIPOCA|COMERCIAL ITAPIPO...| 23.463.268/0001-65|RUA JOSE DO PATRO...|      1023|          NULL|        COQUEIRO|62508-048|          GASOLINA|2024-08-01|    6.79|     NULL|R$ / litro|IPIRANGA|\n",
            "|    NE|    CE|ITAPIPOCA|COMERCIAL ITAPIPO...| 23.463.268/0001-65|RUA JOSE DO PATRO...|      1023|          NULL|        COQUEIRO|62508-048|GASOLINA ADITIVADA|2024-08-01|    6.79|     NULL|R$ / litro|IPIRANGA|\n",
            "|    NE|    CE|ITAPIPOCA|COMERCIAL ITAPIPO...| 23.463.268/0001-65|RUA JOSE DO PATRO...|      1023|          NULL|        COQUEIRO|62508-048|            ETANOL|2024-08-01|    5.24|     NULL|R$ / litro|IPIRANGA|\n",
            "|    NE|    CE|   SOBRAL|ECONOGÁS DO BRASI...| 08.775.979/0002-62|RUA TABELIÃO IDEL...|       455|          NULL|          CENTRO|62010-000|          GASOLINA|2024-08-01|    6.68|     NULL|R$ / litro|  RAIZEN|\n",
            "|    NE|    CE|   SOBRAL|ECONOGÁS DO BRASI...| 08.775.979/0002-62|RUA TABELIÃO IDEL...|       455|          NULL|          CENTRO|62010-000|GASOLINA ADITIVADA|2024-08-01|    6.88|     NULL|R$ / litro|  RAIZEN|\n",
            "|    NE|    CE|   SOBRAL|ECONOGÁS DO BRASI...| 08.775.979/0002-62|RUA TABELIÃO IDEL...|       455|          NULL|          CENTRO|62010-000|            ETANOL|2024-08-01|    4.99|     NULL|R$ / litro|  RAIZEN|\n",
            "|    NE|    CE|   SOBRAL|T. C. DE VASCONCE...| 07.380.155/0002-20|AVENIDA CEL. JOSE...|       970|          NULL|     EXPECTATIVA|62040-254|          GASOLINA|2024-08-01|    6.69|     NULL|R$ / litro|   VIBRA|\n",
            "|    NE|    CE|   SOBRAL|T. C. DE VASCONCE...| 07.380.155/0002-20|AVENIDA CEL. JOSE...|       970|          NULL|     EXPECTATIVA|62040-254|GASOLINA ADITIVADA|2024-08-01|    6.79|     NULL|R$ / litro|   VIBRA|\n",
            "|    NE|    CE|   SOBRAL|T. C. DE VASCONCE...| 07.380.155/0002-20|AVENIDA CEL. JOSE...|       970|          NULL|     EXPECTATIVA|62040-254|            ETANOL|2024-08-01|    5.29|     NULL|R$ / litro|   VIBRA|\n",
            "|    NE|    CE|   SOBRAL|AUTO POSTO PIONEI...| 07.428.286/0001-50|AVENIDA JOHN SANFORD|       704|          NULL|           JUNCO|62030-000|          GASOLINA|2024-08-01|    6.69|     NULL|R$ / litro|   VIBRA|\n",
            "|    NE|    CE|   SOBRAL|AUTO POSTO PIONEI...| 07.428.286/0001-50|AVENIDA JOHN SANFORD|       704|          NULL|           JUNCO|62030-000|GASOLINA ADITIVADA|2024-08-01|    6.79|     NULL|R$ / litro|   VIBRA|\n",
            "|    NE|    CE|   SOBRAL|AUTO POSTO PIONEI...| 07.428.286/0001-50|AVENIDA JOHN SANFORD|       704|          NULL|           JUNCO|62030-000|            ETANOL|2024-08-01|    5.29|     NULL|R$ / litro|   VIBRA|\n",
            "|    NE|    CE|   SOBRAL|V.C.EMPREENDIMENT...| 03.551.935/0002-35|AVENIDA JOSE EUCL...|        30|   POSTO FLASH|CORACAO DE JESUS|62043-070|          GASOLINA|2024-08-01|    6.68|     NULL|R$ / litro|  RAIZEN|\n",
            "|    NE|    CE|   SOBRAL|V.C.EMPREENDIMENT...| 03.551.935/0002-35|AVENIDA JOSE EUCL...|        30|   POSTO FLASH|CORACAO DE JESUS|62043-070|GASOLINA ADITIVADA|2024-08-01|    6.98|     NULL|R$ / litro|  RAIZEN|\n",
            "|    NE|    CE|   SOBRAL|V.C.EMPREENDIMENT...| 03.551.935/0002-35|AVENIDA JOSE EUCL...|        30|   POSTO FLASH|CORACAO DE JESUS|62043-070|            ETANOL|2024-08-01|    5.29|     NULL|R$ / litro|  RAIZEN|\n",
            "+------+------+---------+--------------------+-------------------+--------------------+----------+--------------+----------------+---------+------------------+----------+--------+---------+----------+--------+\n",
            "only showing top 20 rows\n",
            "\n"
          ]
        }
      ]
    },
    {
      "cell_type": "code",
      "source": [
        "#para termos certeza que essa coluna não foi escrita no df:\n",
        "\n",
        "df_3.show()"
      ],
      "metadata": {
        "colab": {
          "base_uri": "https://localhost:8080/"
        },
        "id": "TKpChiKc74im",
        "outputId": "ac0ecfc0-d465-4604-9e4c-8394ae22dc8f"
      },
      "execution_count": null,
      "outputs": [
        {
          "output_type": "stream",
          "name": "stdout",
          "text": [
            "+------+------+---------+--------------------+-------------------+--------------------+----------+--------------+----------------+---------+------------------+----------+--------+---------+----------+--------+\n",
            "|regiao|estado|municipio|             revenda|               cnpj|             nomerua|Numero Rua|   complemento|          bairro|      cep|           produto|datacoleta|vlrvenda|vlrcompra|unidmedida|bandeira|\n",
            "+------+------+---------+--------------------+-------------------+--------------------+----------+--------------+----------------+---------+------------------+----------+--------+---------+----------+--------+\n",
            "|     N|    AM|PARINTINS|F.J. COMERCIO DE ...| 09.368.602/0001-70|         RUA PARAIBA|        41|CONJ  MACURANY|  RAIMUNDO MUNIZ|69151-456|          GASOLINA|2024-08-01|    7.68|     NULL|R$ / litro|  BRANCA|\n",
            "|     N|    AM|PARINTINS|F.J. COMERCIO DE ...| 09.368.602/0001-70|         RUA PARAIBA|        41|CONJ  MACURANY|  RAIMUNDO MUNIZ|69151-456|GASOLINA ADITIVADA|2024-08-01|    7.68|     NULL|R$ / litro|  BRANCA|\n",
            "|    NE|    CE|ITAPIPOCA|SAO PEDRO COM VAR...| 01.632.155/0002-94|AVENIDA MONSENHOR...|      2771|          NULL|           JULHO|62505-650|          GASOLINA|2024-08-01|    6.77|     NULL|R$ / litro|     ALE|\n",
            "|    NE|    CE|ITAPIPOCA|SAO PEDRO COM VAR...| 01.632.155/0002-94|AVENIDA MONSENHOR...|      2771|          NULL|           JULHO|62505-650|GASOLINA ADITIVADA|2024-08-01|    6.78|     NULL|R$ / litro|     ALE|\n",
            "|    NE|    CE|ITAPIPOCA|SAO PEDRO COM VAR...| 01.632.155/0002-94|AVENIDA MONSENHOR...|      2771|          NULL|           JULHO|62505-650|            ETANOL|2024-08-01|    5.24|     NULL|R$ / litro|     ALE|\n",
            "|    NE|    CE|ITAPIPOCA|COMERCIAL ITAPIPO...| 23.463.268/0001-65|RUA JOSE DO PATRO...|      1023|          NULL|        COQUEIRO|62508-048|          GASOLINA|2024-08-01|    6.79|     NULL|R$ / litro|IPIRANGA|\n",
            "|    NE|    CE|ITAPIPOCA|COMERCIAL ITAPIPO...| 23.463.268/0001-65|RUA JOSE DO PATRO...|      1023|          NULL|        COQUEIRO|62508-048|GASOLINA ADITIVADA|2024-08-01|    6.79|     NULL|R$ / litro|IPIRANGA|\n",
            "|    NE|    CE|ITAPIPOCA|COMERCIAL ITAPIPO...| 23.463.268/0001-65|RUA JOSE DO PATRO...|      1023|          NULL|        COQUEIRO|62508-048|            ETANOL|2024-08-01|    5.24|     NULL|R$ / litro|IPIRANGA|\n",
            "|    NE|    CE|   SOBRAL|ECONOGÁS DO BRASI...| 08.775.979/0002-62|RUA TABELIÃO IDEL...|       455|          NULL|          CENTRO|62010-000|          GASOLINA|2024-08-01|    6.68|     NULL|R$ / litro|  RAIZEN|\n",
            "|    NE|    CE|   SOBRAL|ECONOGÁS DO BRASI...| 08.775.979/0002-62|RUA TABELIÃO IDEL...|       455|          NULL|          CENTRO|62010-000|GASOLINA ADITIVADA|2024-08-01|    6.88|     NULL|R$ / litro|  RAIZEN|\n",
            "|    NE|    CE|   SOBRAL|ECONOGÁS DO BRASI...| 08.775.979/0002-62|RUA TABELIÃO IDEL...|       455|          NULL|          CENTRO|62010-000|            ETANOL|2024-08-01|    4.99|     NULL|R$ / litro|  RAIZEN|\n",
            "|    NE|    CE|   SOBRAL|T. C. DE VASCONCE...| 07.380.155/0002-20|AVENIDA CEL. JOSE...|       970|          NULL|     EXPECTATIVA|62040-254|          GASOLINA|2024-08-01|    6.69|     NULL|R$ / litro|   VIBRA|\n",
            "|    NE|    CE|   SOBRAL|T. C. DE VASCONCE...| 07.380.155/0002-20|AVENIDA CEL. JOSE...|       970|          NULL|     EXPECTATIVA|62040-254|GASOLINA ADITIVADA|2024-08-01|    6.79|     NULL|R$ / litro|   VIBRA|\n",
            "|    NE|    CE|   SOBRAL|T. C. DE VASCONCE...| 07.380.155/0002-20|AVENIDA CEL. JOSE...|       970|          NULL|     EXPECTATIVA|62040-254|            ETANOL|2024-08-01|    5.29|     NULL|R$ / litro|   VIBRA|\n",
            "|    NE|    CE|   SOBRAL|AUTO POSTO PIONEI...| 07.428.286/0001-50|AVENIDA JOHN SANFORD|       704|          NULL|           JUNCO|62030-000|          GASOLINA|2024-08-01|    6.69|     NULL|R$ / litro|   VIBRA|\n",
            "|    NE|    CE|   SOBRAL|AUTO POSTO PIONEI...| 07.428.286/0001-50|AVENIDA JOHN SANFORD|       704|          NULL|           JUNCO|62030-000|GASOLINA ADITIVADA|2024-08-01|    6.79|     NULL|R$ / litro|   VIBRA|\n",
            "|    NE|    CE|   SOBRAL|AUTO POSTO PIONEI...| 07.428.286/0001-50|AVENIDA JOHN SANFORD|       704|          NULL|           JUNCO|62030-000|            ETANOL|2024-08-01|    5.29|     NULL|R$ / litro|   VIBRA|\n",
            "|    NE|    CE|   SOBRAL|V.C.EMPREENDIMENT...| 03.551.935/0002-35|AVENIDA JOSE EUCL...|        30|   POSTO FLASH|CORACAO DE JESUS|62043-070|          GASOLINA|2024-08-01|    6.68|     NULL|R$ / litro|  RAIZEN|\n",
            "|    NE|    CE|   SOBRAL|V.C.EMPREENDIMENT...| 03.551.935/0002-35|AVENIDA JOSE EUCL...|        30|   POSTO FLASH|CORACAO DE JESUS|62043-070|GASOLINA ADITIVADA|2024-08-01|    6.98|     NULL|R$ / litro|  RAIZEN|\n",
            "|    NE|    CE|   SOBRAL|V.C.EMPREENDIMENT...| 03.551.935/0002-35|AVENIDA JOSE EUCL...|        30|   POSTO FLASH|CORACAO DE JESUS|62043-070|            ETANOL|2024-08-01|    5.29|     NULL|R$ / litro|  RAIZEN|\n",
            "+------+------+---------+--------------------+-------------------+--------------------+----------+--------------+----------------+---------+------------------+----------+--------+---------+----------+--------+\n",
            "only showing top 20 rows\n",
            "\n"
          ]
        }
      ]
    },
    {
      "cell_type": "code",
      "source": [
        "#O que usamos de fatiamento no python/pandas, no Pyspark usamos a função substring;\n",
        "\n",
        "#OBS: Diferente do python que quando trabalhamos com um array se inicia do '0', aqui no pyspark se inicia literalmente no '1';\n",
        "\n",
        "#Nesse caso, vamos pegar do primeiro ao 3 caracter da string da coluna municipio e criar uma nova coluna chamada 'substring_function';\n",
        "\n",
        "df_3.withColumn('substring_function', substring('municipio', 1, 3))"
      ],
      "metadata": {
        "id": "0saWMknG9v2h",
        "colab": {
          "base_uri": "https://localhost:8080/"
        },
        "outputId": "28b12dee-3e40-41cf-ddfd-8cb19474829b"
      },
      "execution_count": null,
      "outputs": [
        {
          "output_type": "execute_result",
          "data": {
            "text/plain": [
              "DataFrame[regiao: string, estado: string, municipio: string, revenda: string, cnpj: string, nomerua: string, Numero Rua: string, complemento: string, bairro: string, cep: string, produto: string, datacoleta: date, vlrvenda: float, vlrcompra: string, unidmedida: string, bandeira: string, substring_function: string]"
            ]
          },
          "metadata": {},
          "execution_count": 26
        }
      ]
    },
    {
      "cell_type": "code",
      "source": [
        "df_3.show()"
      ],
      "metadata": {
        "colab": {
          "base_uri": "https://localhost:8080/"
        },
        "id": "1J2mAedMLXZM",
        "outputId": "6b42ebc9-9aa7-4a01-e0c9-ab4fa851a24a"
      },
      "execution_count": null,
      "outputs": [
        {
          "output_type": "stream",
          "name": "stdout",
          "text": [
            "+------+------+---------+--------------------+-------------------+--------------------+----------+--------------+----------------+---------+------------------+----------+--------+---------+----------+--------+\n",
            "|regiao|estado|municipio|             revenda|               cnpj|             nomerua|Numero Rua|   complemento|          bairro|      cep|           produto|datacoleta|vlrvenda|vlrcompra|unidmedida|bandeira|\n",
            "+------+------+---------+--------------------+-------------------+--------------------+----------+--------------+----------------+---------+------------------+----------+--------+---------+----------+--------+\n",
            "|     N|    AM|PARINTINS|F.J. COMERCIO DE ...| 09.368.602/0001-70|         RUA PARAIBA|        41|CONJ  MACURANY|  RAIMUNDO MUNIZ|69151-456|          GASOLINA|2024-08-01|    7.68|     NULL|R$ / litro|  BRANCA|\n",
            "|     N|    AM|PARINTINS|F.J. COMERCIO DE ...| 09.368.602/0001-70|         RUA PARAIBA|        41|CONJ  MACURANY|  RAIMUNDO MUNIZ|69151-456|GASOLINA ADITIVADA|2024-08-01|    7.68|     NULL|R$ / litro|  BRANCA|\n",
            "|    NE|    CE|ITAPIPOCA|SAO PEDRO COM VAR...| 01.632.155/0002-94|AVENIDA MONSENHOR...|      2771|          NULL|           JULHO|62505-650|          GASOLINA|2024-08-01|    6.77|     NULL|R$ / litro|     ALE|\n",
            "|    NE|    CE|ITAPIPOCA|SAO PEDRO COM VAR...| 01.632.155/0002-94|AVENIDA MONSENHOR...|      2771|          NULL|           JULHO|62505-650|GASOLINA ADITIVADA|2024-08-01|    6.78|     NULL|R$ / litro|     ALE|\n",
            "|    NE|    CE|ITAPIPOCA|SAO PEDRO COM VAR...| 01.632.155/0002-94|AVENIDA MONSENHOR...|      2771|          NULL|           JULHO|62505-650|            ETANOL|2024-08-01|    5.24|     NULL|R$ / litro|     ALE|\n",
            "|    NE|    CE|ITAPIPOCA|COMERCIAL ITAPIPO...| 23.463.268/0001-65|RUA JOSE DO PATRO...|      1023|          NULL|        COQUEIRO|62508-048|          GASOLINA|2024-08-01|    6.79|     NULL|R$ / litro|IPIRANGA|\n",
            "|    NE|    CE|ITAPIPOCA|COMERCIAL ITAPIPO...| 23.463.268/0001-65|RUA JOSE DO PATRO...|      1023|          NULL|        COQUEIRO|62508-048|GASOLINA ADITIVADA|2024-08-01|    6.79|     NULL|R$ / litro|IPIRANGA|\n",
            "|    NE|    CE|ITAPIPOCA|COMERCIAL ITAPIPO...| 23.463.268/0001-65|RUA JOSE DO PATRO...|      1023|          NULL|        COQUEIRO|62508-048|            ETANOL|2024-08-01|    5.24|     NULL|R$ / litro|IPIRANGA|\n",
            "|    NE|    CE|   SOBRAL|ECONOGÁS DO BRASI...| 08.775.979/0002-62|RUA TABELIÃO IDEL...|       455|          NULL|          CENTRO|62010-000|          GASOLINA|2024-08-01|    6.68|     NULL|R$ / litro|  RAIZEN|\n",
            "|    NE|    CE|   SOBRAL|ECONOGÁS DO BRASI...| 08.775.979/0002-62|RUA TABELIÃO IDEL...|       455|          NULL|          CENTRO|62010-000|GASOLINA ADITIVADA|2024-08-01|    6.88|     NULL|R$ / litro|  RAIZEN|\n",
            "|    NE|    CE|   SOBRAL|ECONOGÁS DO BRASI...| 08.775.979/0002-62|RUA TABELIÃO IDEL...|       455|          NULL|          CENTRO|62010-000|            ETANOL|2024-08-01|    4.99|     NULL|R$ / litro|  RAIZEN|\n",
            "|    NE|    CE|   SOBRAL|T. C. DE VASCONCE...| 07.380.155/0002-20|AVENIDA CEL. JOSE...|       970|          NULL|     EXPECTATIVA|62040-254|          GASOLINA|2024-08-01|    6.69|     NULL|R$ / litro|   VIBRA|\n",
            "|    NE|    CE|   SOBRAL|T. C. DE VASCONCE...| 07.380.155/0002-20|AVENIDA CEL. JOSE...|       970|          NULL|     EXPECTATIVA|62040-254|GASOLINA ADITIVADA|2024-08-01|    6.79|     NULL|R$ / litro|   VIBRA|\n",
            "|    NE|    CE|   SOBRAL|T. C. DE VASCONCE...| 07.380.155/0002-20|AVENIDA CEL. JOSE...|       970|          NULL|     EXPECTATIVA|62040-254|            ETANOL|2024-08-01|    5.29|     NULL|R$ / litro|   VIBRA|\n",
            "|    NE|    CE|   SOBRAL|AUTO POSTO PIONEI...| 07.428.286/0001-50|AVENIDA JOHN SANFORD|       704|          NULL|           JUNCO|62030-000|          GASOLINA|2024-08-01|    6.69|     NULL|R$ / litro|   VIBRA|\n",
            "|    NE|    CE|   SOBRAL|AUTO POSTO PIONEI...| 07.428.286/0001-50|AVENIDA JOHN SANFORD|       704|          NULL|           JUNCO|62030-000|GASOLINA ADITIVADA|2024-08-01|    6.79|     NULL|R$ / litro|   VIBRA|\n",
            "|    NE|    CE|   SOBRAL|AUTO POSTO PIONEI...| 07.428.286/0001-50|AVENIDA JOHN SANFORD|       704|          NULL|           JUNCO|62030-000|            ETANOL|2024-08-01|    5.29|     NULL|R$ / litro|   VIBRA|\n",
            "|    NE|    CE|   SOBRAL|V.C.EMPREENDIMENT...| 03.551.935/0002-35|AVENIDA JOSE EUCL...|        30|   POSTO FLASH|CORACAO DE JESUS|62043-070|          GASOLINA|2024-08-01|    6.68|     NULL|R$ / litro|  RAIZEN|\n",
            "|    NE|    CE|   SOBRAL|V.C.EMPREENDIMENT...| 03.551.935/0002-35|AVENIDA JOSE EUCL...|        30|   POSTO FLASH|CORACAO DE JESUS|62043-070|GASOLINA ADITIVADA|2024-08-01|    6.98|     NULL|R$ / litro|  RAIZEN|\n",
            "|    NE|    CE|   SOBRAL|V.C.EMPREENDIMENT...| 03.551.935/0002-35|AVENIDA JOSE EUCL...|        30|   POSTO FLASH|CORACAO DE JESUS|62043-070|            ETANOL|2024-08-01|    5.29|     NULL|R$ / litro|  RAIZEN|\n",
            "+------+------+---------+--------------------+-------------------+--------------------+----------+--------------+----------------+---------+------------------+----------+--------+---------+----------+--------+\n",
            "only showing top 20 rows\n",
            "\n"
          ]
        }
      ]
    },
    {
      "cell_type": "code",
      "source": [
        "#Nesse caso, estamos pegando os 3 ultimos caracter da string\n",
        "\n",
        "df_3.withColumn('substring_function', substring('municipio', -3, 3))"
      ],
      "metadata": {
        "id": "ZBJTDPtl-92K",
        "colab": {
          "base_uri": "https://localhost:8080/"
        },
        "outputId": "dddbdd47-dbc5-4111-9e28-f76cd3001758"
      },
      "execution_count": null,
      "outputs": [
        {
          "output_type": "execute_result",
          "data": {
            "text/plain": [
              "DataFrame[regiao: string, estado: string, municipio: string, revenda: string, cnpj: string, nomerua: string, Numero Rua: string, complemento: string, bairro: string, cep: string, produto: string, datacoleta: date, vlrvenda: float, vlrcompra: string, unidmedida: string, bandeira: string, substring_function: string]"
            ]
          },
          "metadata": {},
          "execution_count": 28
        }
      ]
    },
    {
      "cell_type": "code",
      "source": [
        "df_3.show()"
      ],
      "metadata": {
        "colab": {
          "base_uri": "https://localhost:8080/"
        },
        "id": "8rtDDI0aLZU2",
        "outputId": "6572803d-e633-4683-c02a-90d500f38c50"
      },
      "execution_count": null,
      "outputs": [
        {
          "output_type": "stream",
          "name": "stdout",
          "text": [
            "+------+------+---------+--------------------+-------------------+--------------------+----------+--------------+----------------+---------+------------------+----------+--------+---------+----------+--------+\n",
            "|regiao|estado|municipio|             revenda|               cnpj|             nomerua|Numero Rua|   complemento|          bairro|      cep|           produto|datacoleta|vlrvenda|vlrcompra|unidmedida|bandeira|\n",
            "+------+------+---------+--------------------+-------------------+--------------------+----------+--------------+----------------+---------+------------------+----------+--------+---------+----------+--------+\n",
            "|     N|    AM|PARINTINS|F.J. COMERCIO DE ...| 09.368.602/0001-70|         RUA PARAIBA|        41|CONJ  MACURANY|  RAIMUNDO MUNIZ|69151-456|          GASOLINA|2024-08-01|    7.68|     NULL|R$ / litro|  BRANCA|\n",
            "|     N|    AM|PARINTINS|F.J. COMERCIO DE ...| 09.368.602/0001-70|         RUA PARAIBA|        41|CONJ  MACURANY|  RAIMUNDO MUNIZ|69151-456|GASOLINA ADITIVADA|2024-08-01|    7.68|     NULL|R$ / litro|  BRANCA|\n",
            "|    NE|    CE|ITAPIPOCA|SAO PEDRO COM VAR...| 01.632.155/0002-94|AVENIDA MONSENHOR...|      2771|          NULL|           JULHO|62505-650|          GASOLINA|2024-08-01|    6.77|     NULL|R$ / litro|     ALE|\n",
            "|    NE|    CE|ITAPIPOCA|SAO PEDRO COM VAR...| 01.632.155/0002-94|AVENIDA MONSENHOR...|      2771|          NULL|           JULHO|62505-650|GASOLINA ADITIVADA|2024-08-01|    6.78|     NULL|R$ / litro|     ALE|\n",
            "|    NE|    CE|ITAPIPOCA|SAO PEDRO COM VAR...| 01.632.155/0002-94|AVENIDA MONSENHOR...|      2771|          NULL|           JULHO|62505-650|            ETANOL|2024-08-01|    5.24|     NULL|R$ / litro|     ALE|\n",
            "|    NE|    CE|ITAPIPOCA|COMERCIAL ITAPIPO...| 23.463.268/0001-65|RUA JOSE DO PATRO...|      1023|          NULL|        COQUEIRO|62508-048|          GASOLINA|2024-08-01|    6.79|     NULL|R$ / litro|IPIRANGA|\n",
            "|    NE|    CE|ITAPIPOCA|COMERCIAL ITAPIPO...| 23.463.268/0001-65|RUA JOSE DO PATRO...|      1023|          NULL|        COQUEIRO|62508-048|GASOLINA ADITIVADA|2024-08-01|    6.79|     NULL|R$ / litro|IPIRANGA|\n",
            "|    NE|    CE|ITAPIPOCA|COMERCIAL ITAPIPO...| 23.463.268/0001-65|RUA JOSE DO PATRO...|      1023|          NULL|        COQUEIRO|62508-048|            ETANOL|2024-08-01|    5.24|     NULL|R$ / litro|IPIRANGA|\n",
            "|    NE|    CE|   SOBRAL|ECONOGÁS DO BRASI...| 08.775.979/0002-62|RUA TABELIÃO IDEL...|       455|          NULL|          CENTRO|62010-000|          GASOLINA|2024-08-01|    6.68|     NULL|R$ / litro|  RAIZEN|\n",
            "|    NE|    CE|   SOBRAL|ECONOGÁS DO BRASI...| 08.775.979/0002-62|RUA TABELIÃO IDEL...|       455|          NULL|          CENTRO|62010-000|GASOLINA ADITIVADA|2024-08-01|    6.88|     NULL|R$ / litro|  RAIZEN|\n",
            "|    NE|    CE|   SOBRAL|ECONOGÁS DO BRASI...| 08.775.979/0002-62|RUA TABELIÃO IDEL...|       455|          NULL|          CENTRO|62010-000|            ETANOL|2024-08-01|    4.99|     NULL|R$ / litro|  RAIZEN|\n",
            "|    NE|    CE|   SOBRAL|T. C. DE VASCONCE...| 07.380.155/0002-20|AVENIDA CEL. JOSE...|       970|          NULL|     EXPECTATIVA|62040-254|          GASOLINA|2024-08-01|    6.69|     NULL|R$ / litro|   VIBRA|\n",
            "|    NE|    CE|   SOBRAL|T. C. DE VASCONCE...| 07.380.155/0002-20|AVENIDA CEL. JOSE...|       970|          NULL|     EXPECTATIVA|62040-254|GASOLINA ADITIVADA|2024-08-01|    6.79|     NULL|R$ / litro|   VIBRA|\n",
            "|    NE|    CE|   SOBRAL|T. C. DE VASCONCE...| 07.380.155/0002-20|AVENIDA CEL. JOSE...|       970|          NULL|     EXPECTATIVA|62040-254|            ETANOL|2024-08-01|    5.29|     NULL|R$ / litro|   VIBRA|\n",
            "|    NE|    CE|   SOBRAL|AUTO POSTO PIONEI...| 07.428.286/0001-50|AVENIDA JOHN SANFORD|       704|          NULL|           JUNCO|62030-000|          GASOLINA|2024-08-01|    6.69|     NULL|R$ / litro|   VIBRA|\n",
            "|    NE|    CE|   SOBRAL|AUTO POSTO PIONEI...| 07.428.286/0001-50|AVENIDA JOHN SANFORD|       704|          NULL|           JUNCO|62030-000|GASOLINA ADITIVADA|2024-08-01|    6.79|     NULL|R$ / litro|   VIBRA|\n",
            "|    NE|    CE|   SOBRAL|AUTO POSTO PIONEI...| 07.428.286/0001-50|AVENIDA JOHN SANFORD|       704|          NULL|           JUNCO|62030-000|            ETANOL|2024-08-01|    5.29|     NULL|R$ / litro|   VIBRA|\n",
            "|    NE|    CE|   SOBRAL|V.C.EMPREENDIMENT...| 03.551.935/0002-35|AVENIDA JOSE EUCL...|        30|   POSTO FLASH|CORACAO DE JESUS|62043-070|          GASOLINA|2024-08-01|    6.68|     NULL|R$ / litro|  RAIZEN|\n",
            "|    NE|    CE|   SOBRAL|V.C.EMPREENDIMENT...| 03.551.935/0002-35|AVENIDA JOSE EUCL...|        30|   POSTO FLASH|CORACAO DE JESUS|62043-070|GASOLINA ADITIVADA|2024-08-01|    6.98|     NULL|R$ / litro|  RAIZEN|\n",
            "|    NE|    CE|   SOBRAL|V.C.EMPREENDIMENT...| 03.551.935/0002-35|AVENIDA JOSE EUCL...|        30|   POSTO FLASH|CORACAO DE JESUS|62043-070|            ETANOL|2024-08-01|    5.29|     NULL|R$ / litro|  RAIZEN|\n",
            "+------+------+---------+--------------------+-------------------+--------------------+----------+--------------+----------------+---------+------------------+----------+--------+---------+----------+--------+\n",
            "only showing top 20 rows\n",
            "\n"
          ]
        }
      ]
    },
    {
      "cell_type": "code",
      "source": [
        "#Nesse caso, estamos selecionando a data e pegando o valor central, pois ai saberemos o mês e também pegando os 4 primeiros caracter, pois teremos o ano\n",
        "\n",
        "#substring('coluna_queremos_contar', incio, quais ou qual queremos pegar (lenbrando que ele conta o numero que está)\n",
        "\n",
        "#ex: array_numeros = [123456789] - substring('array_numeros, 3, 2 ) - ele começa contar do numero 3 e conta duas casa, incluindo o 3 -> resultado: 3 e 4\n",
        "\n",
        "\n",
        "\n",
        "df_3 = df_3.withColumn('mes', substring('datacoleta', 6, 2)) \\\n",
        "           .withColumn('ano', substring('datacoleta', 1, 4))"
      ],
      "metadata": {
        "id": "qG_xFsN7_oAU"
      },
      "execution_count": null,
      "outputs": []
    },
    {
      "cell_type": "code",
      "source": [
        "#Passando as duas colunas (mês e ano) para dados do tipo inteiro\n",
        "\n",
        "df = df_3\\\n",
        "          .withColumn('mes', col('mes').cast(IntegerType()))\\\n",
        "          .withColumn('ano', col('ano').cast(IntegerType()))\n"
      ],
      "metadata": {
        "id": "hZepINdRJqBC"
      },
      "execution_count": null,
      "outputs": []
    },
    {
      "cell_type": "code",
      "source": [
        "df.printSchema()"
      ],
      "metadata": {
        "colab": {
          "base_uri": "https://localhost:8080/"
        },
        "id": "E48Tne1gabDN",
        "outputId": "9b963ac0-4f26-42fa-808c-1321b0dda3a8"
      },
      "execution_count": null,
      "outputs": [
        {
          "output_type": "stream",
          "name": "stdout",
          "text": [
            "root\n",
            " |-- regiao: string (nullable = true)\n",
            " |-- estado: string (nullable = true)\n",
            " |-- municipio: string (nullable = true)\n",
            " |-- revenda: string (nullable = true)\n",
            " |-- cnpj: string (nullable = true)\n",
            " |-- nomerua: string (nullable = true)\n",
            " |-- Numero Rua: string (nullable = true)\n",
            " |-- complemento: string (nullable = true)\n",
            " |-- bairro: string (nullable = true)\n",
            " |-- cep: string (nullable = true)\n",
            " |-- produto: string (nullable = true)\n",
            " |-- datacoleta: date (nullable = true)\n",
            " |-- vlrvenda: float (nullable = true)\n",
            " |-- vlrcompra: string (nullable = true)\n",
            " |-- unidmedida: string (nullable = true)\n",
            " |-- bandeira: string (nullable = true)\n",
            " |-- mes: integer (nullable = true)\n",
            " |-- ano: integer (nullable = true)\n",
            "\n"
          ]
        }
      ]
    },
    {
      "cell_type": "code",
      "source": [
        "df.show(10)"
      ],
      "metadata": {
        "colab": {
          "base_uri": "https://localhost:8080/"
        },
        "id": "iYuY1qFCaNq0",
        "outputId": "b6c07deb-5c8a-4570-d905-a177740c63b0"
      },
      "execution_count": null,
      "outputs": [
        {
          "output_type": "stream",
          "name": "stdout",
          "text": [
            "+------+------+---------+--------------------+-------------------+--------------------+----------+--------------+--------------+---------+------------------+----------+--------+---------+----------+--------+---+----+\n",
            "|regiao|estado|municipio|             revenda|               cnpj|             nomerua|Numero Rua|   complemento|        bairro|      cep|           produto|datacoleta|vlrvenda|vlrcompra|unidmedida|bandeira|mes| ano|\n",
            "+------+------+---------+--------------------+-------------------+--------------------+----------+--------------+--------------+---------+------------------+----------+--------+---------+----------+--------+---+----+\n",
            "|     N|    AM|PARINTINS|F.J. COMERCIO DE ...| 09.368.602/0001-70|         RUA PARAIBA|        41|CONJ  MACURANY|RAIMUNDO MUNIZ|69151-456|          GASOLINA|2024-08-01|    7.68|     NULL|R$ / litro|  BRANCA|  8|2024|\n",
            "|     N|    AM|PARINTINS|F.J. COMERCIO DE ...| 09.368.602/0001-70|         RUA PARAIBA|        41|CONJ  MACURANY|RAIMUNDO MUNIZ|69151-456|GASOLINA ADITIVADA|2024-08-01|    7.68|     NULL|R$ / litro|  BRANCA|  8|2024|\n",
            "|    NE|    CE|ITAPIPOCA|SAO PEDRO COM VAR...| 01.632.155/0002-94|AVENIDA MONSENHOR...|      2771|          NULL|         JULHO|62505-650|          GASOLINA|2024-08-01|    6.77|     NULL|R$ / litro|     ALE|  8|2024|\n",
            "|    NE|    CE|ITAPIPOCA|SAO PEDRO COM VAR...| 01.632.155/0002-94|AVENIDA MONSENHOR...|      2771|          NULL|         JULHO|62505-650|GASOLINA ADITIVADA|2024-08-01|    6.78|     NULL|R$ / litro|     ALE|  8|2024|\n",
            "|    NE|    CE|ITAPIPOCA|SAO PEDRO COM VAR...| 01.632.155/0002-94|AVENIDA MONSENHOR...|      2771|          NULL|         JULHO|62505-650|            ETANOL|2024-08-01|    5.24|     NULL|R$ / litro|     ALE|  8|2024|\n",
            "|    NE|    CE|ITAPIPOCA|COMERCIAL ITAPIPO...| 23.463.268/0001-65|RUA JOSE DO PATRO...|      1023|          NULL|      COQUEIRO|62508-048|          GASOLINA|2024-08-01|    6.79|     NULL|R$ / litro|IPIRANGA|  8|2024|\n",
            "|    NE|    CE|ITAPIPOCA|COMERCIAL ITAPIPO...| 23.463.268/0001-65|RUA JOSE DO PATRO...|      1023|          NULL|      COQUEIRO|62508-048|GASOLINA ADITIVADA|2024-08-01|    6.79|     NULL|R$ / litro|IPIRANGA|  8|2024|\n",
            "|    NE|    CE|ITAPIPOCA|COMERCIAL ITAPIPO...| 23.463.268/0001-65|RUA JOSE DO PATRO...|      1023|          NULL|      COQUEIRO|62508-048|            ETANOL|2024-08-01|    5.24|     NULL|R$ / litro|IPIRANGA|  8|2024|\n",
            "|    NE|    CE|   SOBRAL|ECONOGÁS DO BRASI...| 08.775.979/0002-62|RUA TABELIÃO IDEL...|       455|          NULL|        CENTRO|62010-000|          GASOLINA|2024-08-01|    6.68|     NULL|R$ / litro|  RAIZEN|  8|2024|\n",
            "|    NE|    CE|   SOBRAL|ECONOGÁS DO BRASI...| 08.775.979/0002-62|RUA TABELIÃO IDEL...|       455|          NULL|        CENTRO|62010-000|GASOLINA ADITIVADA|2024-08-01|    6.88|     NULL|R$ / litro|  RAIZEN|  8|2024|\n",
            "+------+------+---------+--------------------+-------------------+--------------------+----------+--------------+--------------+---------+------------------+----------+--------+---------+----------+--------+---+----+\n",
            "only showing top 10 rows\n",
            "\n"
          ]
        }
      ]
    },
    {
      "cell_type": "code",
      "source": [
        "#Assim como no pandas, essa função criada serve no pyspark também\n",
        "nome_funcao = udf(lambda x: x.split('-')[0])"
      ],
      "metadata": {
        "id": "eTMoINLf28io"
      },
      "execution_count": null,
      "outputs": []
    },
    {
      "cell_type": "markdown",
      "source": [
        "outra forma de extrair dia, mês e ano de uma coluna que está formatada como date (to_date('coluna', format=YYYY-MM-DD)"
      ],
      "metadata": {
        "id": "fbDYWldu4fuY"
      }
    },
    {
      "cell_type": "code",
      "source": [
        "df.withColumn('dia', day('datacoleta'))\\\n",
        "  .withColumn('ano', year('datacoleta'))\\\n",
        "  .withColumn('mes', month('datacoleta'))\\\n",
        "  .show()"
      ],
      "metadata": {
        "colab": {
          "base_uri": "https://localhost:8080/"
        },
        "id": "eB-mW9nn3Pc2",
        "outputId": "96d1fae3-9694-4b3f-b076-3edb29b80f4c"
      },
      "execution_count": null,
      "outputs": [
        {
          "output_type": "stream",
          "name": "stdout",
          "text": [
            "+------+------+---------+--------------------+-------------------+--------------------+----------+--------------+----------------+---------+------------------+----------+--------+---------+----------+--------+---+----+---+\n",
            "|regiao|estado|municipio|             revenda|               cnpj|             nomerua|Numero Rua|   complemento|          bairro|      cep|           produto|datacoleta|vlrvenda|vlrcompra|unidmedida|bandeira|mes| ano|dia|\n",
            "+------+------+---------+--------------------+-------------------+--------------------+----------+--------------+----------------+---------+------------------+----------+--------+---------+----------+--------+---+----+---+\n",
            "|     N|    AM|PARINTINS|F.J. COMERCIO DE ...| 09.368.602/0001-70|         RUA PARAIBA|        41|CONJ  MACURANY|  RAIMUNDO MUNIZ|69151-456|          GASOLINA|2024-08-01|    7.68|     NULL|R$ / litro|  BRANCA|  8|2024|  1|\n",
            "|     N|    AM|PARINTINS|F.J. COMERCIO DE ...| 09.368.602/0001-70|         RUA PARAIBA|        41|CONJ  MACURANY|  RAIMUNDO MUNIZ|69151-456|GASOLINA ADITIVADA|2024-08-01|    7.68|     NULL|R$ / litro|  BRANCA|  8|2024|  1|\n",
            "|    NE|    CE|ITAPIPOCA|SAO PEDRO COM VAR...| 01.632.155/0002-94|AVENIDA MONSENHOR...|      2771|          NULL|           JULHO|62505-650|          GASOLINA|2024-08-01|    6.77|     NULL|R$ / litro|     ALE|  8|2024|  1|\n",
            "|    NE|    CE|ITAPIPOCA|SAO PEDRO COM VAR...| 01.632.155/0002-94|AVENIDA MONSENHOR...|      2771|          NULL|           JULHO|62505-650|GASOLINA ADITIVADA|2024-08-01|    6.78|     NULL|R$ / litro|     ALE|  8|2024|  1|\n",
            "|    NE|    CE|ITAPIPOCA|SAO PEDRO COM VAR...| 01.632.155/0002-94|AVENIDA MONSENHOR...|      2771|          NULL|           JULHO|62505-650|            ETANOL|2024-08-01|    5.24|     NULL|R$ / litro|     ALE|  8|2024|  1|\n",
            "|    NE|    CE|ITAPIPOCA|COMERCIAL ITAPIPO...| 23.463.268/0001-65|RUA JOSE DO PATRO...|      1023|          NULL|        COQUEIRO|62508-048|          GASOLINA|2024-08-01|    6.79|     NULL|R$ / litro|IPIRANGA|  8|2024|  1|\n",
            "|    NE|    CE|ITAPIPOCA|COMERCIAL ITAPIPO...| 23.463.268/0001-65|RUA JOSE DO PATRO...|      1023|          NULL|        COQUEIRO|62508-048|GASOLINA ADITIVADA|2024-08-01|    6.79|     NULL|R$ / litro|IPIRANGA|  8|2024|  1|\n",
            "|    NE|    CE|ITAPIPOCA|COMERCIAL ITAPIPO...| 23.463.268/0001-65|RUA JOSE DO PATRO...|      1023|          NULL|        COQUEIRO|62508-048|            ETANOL|2024-08-01|    5.24|     NULL|R$ / litro|IPIRANGA|  8|2024|  1|\n",
            "|    NE|    CE|   SOBRAL|ECONOGÁS DO BRASI...| 08.775.979/0002-62|RUA TABELIÃO IDEL...|       455|          NULL|          CENTRO|62010-000|          GASOLINA|2024-08-01|    6.68|     NULL|R$ / litro|  RAIZEN|  8|2024|  1|\n",
            "|    NE|    CE|   SOBRAL|ECONOGÁS DO BRASI...| 08.775.979/0002-62|RUA TABELIÃO IDEL...|       455|          NULL|          CENTRO|62010-000|GASOLINA ADITIVADA|2024-08-01|    6.88|     NULL|R$ / litro|  RAIZEN|  8|2024|  1|\n",
            "|    NE|    CE|   SOBRAL|ECONOGÁS DO BRASI...| 08.775.979/0002-62|RUA TABELIÃO IDEL...|       455|          NULL|          CENTRO|62010-000|            ETANOL|2024-08-01|    4.99|     NULL|R$ / litro|  RAIZEN|  8|2024|  1|\n",
            "|    NE|    CE|   SOBRAL|T. C. DE VASCONCE...| 07.380.155/0002-20|AVENIDA CEL. JOSE...|       970|          NULL|     EXPECTATIVA|62040-254|          GASOLINA|2024-08-01|    6.69|     NULL|R$ / litro|   VIBRA|  8|2024|  1|\n",
            "|    NE|    CE|   SOBRAL|T. C. DE VASCONCE...| 07.380.155/0002-20|AVENIDA CEL. JOSE...|       970|          NULL|     EXPECTATIVA|62040-254|GASOLINA ADITIVADA|2024-08-01|    6.79|     NULL|R$ / litro|   VIBRA|  8|2024|  1|\n",
            "|    NE|    CE|   SOBRAL|T. C. DE VASCONCE...| 07.380.155/0002-20|AVENIDA CEL. JOSE...|       970|          NULL|     EXPECTATIVA|62040-254|            ETANOL|2024-08-01|    5.29|     NULL|R$ / litro|   VIBRA|  8|2024|  1|\n",
            "|    NE|    CE|   SOBRAL|AUTO POSTO PIONEI...| 07.428.286/0001-50|AVENIDA JOHN SANFORD|       704|          NULL|           JUNCO|62030-000|          GASOLINA|2024-08-01|    6.69|     NULL|R$ / litro|   VIBRA|  8|2024|  1|\n",
            "|    NE|    CE|   SOBRAL|AUTO POSTO PIONEI...| 07.428.286/0001-50|AVENIDA JOHN SANFORD|       704|          NULL|           JUNCO|62030-000|GASOLINA ADITIVADA|2024-08-01|    6.79|     NULL|R$ / litro|   VIBRA|  8|2024|  1|\n",
            "|    NE|    CE|   SOBRAL|AUTO POSTO PIONEI...| 07.428.286/0001-50|AVENIDA JOHN SANFORD|       704|          NULL|           JUNCO|62030-000|            ETANOL|2024-08-01|    5.29|     NULL|R$ / litro|   VIBRA|  8|2024|  1|\n",
            "|    NE|    CE|   SOBRAL|V.C.EMPREENDIMENT...| 03.551.935/0002-35|AVENIDA JOSE EUCL...|        30|   POSTO FLASH|CORACAO DE JESUS|62043-070|          GASOLINA|2024-08-01|    6.68|     NULL|R$ / litro|  RAIZEN|  8|2024|  1|\n",
            "|    NE|    CE|   SOBRAL|V.C.EMPREENDIMENT...| 03.551.935/0002-35|AVENIDA JOSE EUCL...|        30|   POSTO FLASH|CORACAO DE JESUS|62043-070|GASOLINA ADITIVADA|2024-08-01|    6.98|     NULL|R$ / litro|  RAIZEN|  8|2024|  1|\n",
            "|    NE|    CE|   SOBRAL|V.C.EMPREENDIMENT...| 03.551.935/0002-35|AVENIDA JOSE EUCL...|        30|   POSTO FLASH|CORACAO DE JESUS|62043-070|            ETANOL|2024-08-01|    5.29|     NULL|R$ / litro|  RAIZEN|  8|2024|  1|\n",
            "+------+------+---------+--------------------+-------------------+--------------------+----------+--------------+----------------+---------+------------------+----------+--------+---------+----------+--------+---+----+---+\n",
            "only showing top 20 rows\n",
            "\n"
          ]
        }
      ]
    },
    {
      "cell_type": "markdown",
      "source": [
        "Fazendo drop de colunas no pyspark"
      ],
      "metadata": {
        "id": "Viz9_qjgvSb5"
      }
    },
    {
      "cell_type": "code",
      "source": [
        "df = df.drop(col('cnpj'),\n",
        "        col('nomerua'),\n",
        "        col('Numero Rua'),\n",
        "        col('complemento'),\n",
        "        col('bairro'),\n",
        "        col('cep'),\n",
        "        col('unidmedida')\n",
        ")"
      ],
      "metadata": {
        "id": "ithHD69EvSLx"
      },
      "execution_count": null,
      "outputs": []
    },
    {
      "cell_type": "code",
      "source": [
        "df.show()"
      ],
      "metadata": {
        "colab": {
          "base_uri": "https://localhost:8080/"
        },
        "id": "hL-54Bfev8HJ",
        "outputId": "bb3cb1a4-b00c-4757-d9f0-1ab247a691aa"
      },
      "execution_count": null,
      "outputs": [
        {
          "output_type": "stream",
          "name": "stdout",
          "text": [
            "+------+------+---------+--------------------+------------------+----------+--------+---------+--------+---+----+\n",
            "|regiao|estado|municipio|             revenda|           produto|datacoleta|vlrvenda|vlrcompra|bandeira|mes| ano|\n",
            "+------+------+---------+--------------------+------------------+----------+--------+---------+--------+---+----+\n",
            "|     N|    AM|PARINTINS|F.J. COMERCIO DE ...|          GASOLINA|2024-08-01|    7.68|     NULL|  BRANCA|  8|2024|\n",
            "|     N|    AM|PARINTINS|F.J. COMERCIO DE ...|GASOLINA ADITIVADA|2024-08-01|    7.68|     NULL|  BRANCA|  8|2024|\n",
            "|    NE|    CE|ITAPIPOCA|SAO PEDRO COM VAR...|          GASOLINA|2024-08-01|    6.77|     NULL|     ALE|  8|2024|\n",
            "|    NE|    CE|ITAPIPOCA|SAO PEDRO COM VAR...|GASOLINA ADITIVADA|2024-08-01|    6.78|     NULL|     ALE|  8|2024|\n",
            "|    NE|    CE|ITAPIPOCA|SAO PEDRO COM VAR...|            ETANOL|2024-08-01|    5.24|     NULL|     ALE|  8|2024|\n",
            "|    NE|    CE|ITAPIPOCA|COMERCIAL ITAPIPO...|          GASOLINA|2024-08-01|    6.79|     NULL|IPIRANGA|  8|2024|\n",
            "|    NE|    CE|ITAPIPOCA|COMERCIAL ITAPIPO...|GASOLINA ADITIVADA|2024-08-01|    6.79|     NULL|IPIRANGA|  8|2024|\n",
            "|    NE|    CE|ITAPIPOCA|COMERCIAL ITAPIPO...|            ETANOL|2024-08-01|    5.24|     NULL|IPIRANGA|  8|2024|\n",
            "|    NE|    CE|   SOBRAL|ECONOGÁS DO BRASI...|          GASOLINA|2024-08-01|    6.68|     NULL|  RAIZEN|  8|2024|\n",
            "|    NE|    CE|   SOBRAL|ECONOGÁS DO BRASI...|GASOLINA ADITIVADA|2024-08-01|    6.88|     NULL|  RAIZEN|  8|2024|\n",
            "|    NE|    CE|   SOBRAL|ECONOGÁS DO BRASI...|            ETANOL|2024-08-01|    4.99|     NULL|  RAIZEN|  8|2024|\n",
            "|    NE|    CE|   SOBRAL|T. C. DE VASCONCE...|          GASOLINA|2024-08-01|    6.69|     NULL|   VIBRA|  8|2024|\n",
            "|    NE|    CE|   SOBRAL|T. C. DE VASCONCE...|GASOLINA ADITIVADA|2024-08-01|    6.79|     NULL|   VIBRA|  8|2024|\n",
            "|    NE|    CE|   SOBRAL|T. C. DE VASCONCE...|            ETANOL|2024-08-01|    5.29|     NULL|   VIBRA|  8|2024|\n",
            "|    NE|    CE|   SOBRAL|AUTO POSTO PIONEI...|          GASOLINA|2024-08-01|    6.69|     NULL|   VIBRA|  8|2024|\n",
            "|    NE|    CE|   SOBRAL|AUTO POSTO PIONEI...|GASOLINA ADITIVADA|2024-08-01|    6.79|     NULL|   VIBRA|  8|2024|\n",
            "|    NE|    CE|   SOBRAL|AUTO POSTO PIONEI...|            ETANOL|2024-08-01|    5.29|     NULL|   VIBRA|  8|2024|\n",
            "|    NE|    CE|   SOBRAL|V.C.EMPREENDIMENT...|          GASOLINA|2024-08-01|    6.68|     NULL|  RAIZEN|  8|2024|\n",
            "|    NE|    CE|   SOBRAL|V.C.EMPREENDIMENT...|GASOLINA ADITIVADA|2024-08-01|    6.98|     NULL|  RAIZEN|  8|2024|\n",
            "|    NE|    CE|   SOBRAL|V.C.EMPREENDIMENT...|            ETANOL|2024-08-01|    5.29|     NULL|  RAIZEN|  8|2024|\n",
            "+------+------+---------+--------------------+------------------+----------+--------+---------+--------+---+----+\n",
            "only showing top 20 rows\n",
            "\n"
          ]
        }
      ]
    },
    {
      "cell_type": "code",
      "source": [
        "df.withColumn('mes', when )"
      ],
      "metadata": {
        "id": "flhX_thuwGYR"
      },
      "execution_count": null,
      "outputs": []
    }
  ]
}